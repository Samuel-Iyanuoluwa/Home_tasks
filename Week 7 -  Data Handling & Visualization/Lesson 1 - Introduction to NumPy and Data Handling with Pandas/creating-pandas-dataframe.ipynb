{
 "cells": [
  {
   "cell_type": "code",
   "execution_count": null,
   "id": "50f476b0",
   "metadata": {},
   "outputs": [],
   "source": [
    "import pandas as pd\n",
    "import numpy as np\n",
    "\n",
    "# Create a simple DataFrame from a dictionary\n",
    "data = {\n",
    "    'Name': ['Alice', 'Bob', 'Charlie', 'David', 'Eva', 'Seen'],\n",
    "    'Age': [24, 27, 22, 32, 29, True],\n",
    "    'City': ['New York', 'Boston', 'Chicago', 'Denver', 'Seattle', True],\n",
    "    'Score': [85, 92, 78, 95, 89, False]\n",
    "}\n",
    "\n",
    "df = pd.DataFrame(data)\n",
    "print(\"DataFrame from dictionary:\")\n",
    "print(df)"
   ]
  },
  {
   "cell_type": "code",
   "execution_count": null,
   "id": "6ccdf69c",
   "metadata": {},
   "outputs": [],
   "source": [
    "# Creating a DataFrame from a NumPy array\n",
    "array_data = np.random.randint(60, 100, size=(5, 4))\n",
    "\n",
    "df2 = pd.DataFrame(\n",
    "    array_data,\n",
    "    columns=['Math', 'Science', 'English', 'History'],\n",
    "    index=['Student1', 'Student2', 'Student3', 'Student4', 'Student5'],\n",
    ")\n",
    "\n",
    "print(\"\\nDataFrame from array:\")\n",
    "print(df2)"
   ]
  },
  {
   "cell_type": "code",
   "execution_count": null,
   "id": "5967837a",
   "metadata": {},
   "outputs": [],
   "source": [
    "# Reading CSV into DataFrame\n",
    "\n",
    "students_df = pd.read_csv('../files/students_record.csv')\n",
    "\n",
    "print(\"First 5 rows of the DataFrame:\")\n",
    "print(students_df.head())"
   ]
  },
  {
   "cell_type": "code",
   "execution_count": null,
   "id": "6422637b",
   "metadata": {},
   "outputs": [],
   "source": [
    "# Basic information about the DataFrame\n",
    "\n",
    "(rows, columns) = students_df.shape\n",
    "\n",
    "columnNames = students_df.columns.tolist()\n",
    "\n",
    "print(f\"DataFrame shape ({rows}, {columns})\")\n",
    "print(\"\\nColumn names:\", columnNames)\n",
    "print(\"\\nData types:\")\n",
    "print(students_df.dtypes)"
   ]
  },
  {
   "cell_type": "code",
   "execution_count": null,
   "id": "2950a4e5",
   "metadata": {},
   "outputs": [],
   "source": [
    "# Summary statistics\n",
    "print(\"\\nSummary statistics:\")\n",
    "print(students_df.describe())\n",
    "\n",
    "# print(students_df.describe(include=['object']))\n",
    "# print(students_df.describe(include='all'))"
   ]
  },
  {
   "cell_type": "code",
   "execution_count": null,
   "id": "b02e99f1",
   "metadata": {},
   "outputs": [],
   "source": [
    "# Accessing columns\n",
    "print(\"\\nMath scores:\")\n",
    "print(students_df[['student_id', 'first_name', 'math_score', 'english_score']])"
   ]
  },
  {
   "cell_type": "code",
   "execution_count": null,
   "id": "7f97980e",
   "metadata": {},
   "outputs": [],
   "source": [
    "print(\"\\nFirst 3 rows:\")\n",
    "print(students_df.iloc[0:3])"
   ]
  },
  {
   "cell_type": "code",
   "execution_count": null,
   "id": "7dc4a7a8",
   "metadata": {},
   "outputs": [],
   "source": [
    "# Accessing specific cell\n",
    "print(\"\\nFirst student's math score:\", students_df.iloc[0, 6])"
   ]
  },
  {
   "cell_type": "code",
   "execution_count": null,
   "id": "91f43d9b",
   "metadata": {},
   "outputs": [],
   "source": [
    "high_scores = students_df[students_df['math_score'] > 90]\n",
    "\n",
    "# print(high_scores)\n",
    "\n",
    "print(\"\\nStudents with math scores over 90:\")\n",
    "\n",
    "# Retrieve select columns\n",
    "selectColumns = high_scores[['first_name', 'last_name', 'math_score']]\n",
    "\n",
    "print(selectColumns)"
   ]
  },
  {
   "cell_type": "code",
   "execution_count": null,
   "id": "417b072d",
   "metadata": {},
   "outputs": [],
   "source": [
    "students_df = students_df.rename(columns = { 'math_score': 'Mathematics Score' })\n",
    "print(\"\\nRenamed columns:\", students_df.columns.tolist())"
   ]
  },
  {
   "cell_type": "code",
   "execution_count": null,
   "id": "7e6ef776",
   "metadata": {},
   "outputs": [],
   "source": [
    "print(students_df['Mathematics Score'])"
   ]
  },
  {
   "cell_type": "markdown",
   "id": "2af8b562",
   "metadata": {},
   "source": [
    "# Creating new columns"
   ]
  },
  {
   "cell_type": "code",
   "execution_count": null,
   "id": "10155ea7",
   "metadata": {},
   "outputs": [],
   "source": [
    "students_df['average_score'] = (students_df['mathematics_score'] + \n",
    "                               students_df['science_score'] + \n",
    "                               students_df['english_score'] + \n",
    "                               students_df['history_score']) / 4\n",
    "print(\"\\nAverage scores:\")\n",
    "print(students_df[['first_name', 'last_name', 'average_score']].head())"
   ]
  }
 ],
 "metadata": {
  "kernelspec": {
   "display_name": "base",
   "language": "python",
   "name": "python3"
  },
  "language_info": {
   "codemirror_mode": {
    "name": "ipython",
    "version": 3
   },
   "file_extension": ".py",
   "mimetype": "text/x-python",
   "name": "python",
   "nbconvert_exporter": "python",
   "pygments_lexer": "ipython3",
   "version": "3.12.7"
  }
 },
 "nbformat": 4,
 "nbformat_minor": 5
}
