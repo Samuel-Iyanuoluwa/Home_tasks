{
 "cells": [
  {
   "cell_type": "markdown",
   "id": "c1362226",
   "metadata": {},
   "source": "As a data scientist working in education analytics, you often need to quickly analyze test results to identify patterns and outliers. This exercise simulates a scenario where you've received raw test scores and need to extract meaningful insights to report to school administrators."
  },
  {
   "cell_type": "code",
   "id": "9352eca1",
   "metadata": {
    "ExecuteTime": {
     "end_time": "2025-05-04T14:26:46.849560Z",
     "start_time": "2025-05-04T14:26:46.714378Z"
    }
   },
   "source": [
    "import numpy as np"
   ],
   "outputs": [],
   "execution_count": 1
  },
  {
   "cell_type": "markdown",
   "id": "5f262b15",
   "metadata": {},
   "source": [
    "You can generate a random number using `np.random.randint(0, 1)` and generate a random range (list) of numbers by providing the `size` argument"
   ]
  },
  {
   "cell_type": "code",
   "id": "c83d2d74",
   "metadata": {
    "ExecuteTime": {
     "end_time": "2025-05-04T14:26:46.905882Z",
     "start_time": "2025-05-04T14:26:46.859590Z"
    }
   },
   "source": [
    "testScores = np.random.randint(50, 101, size=25)\n",
    "print(testScores)"
   ],
   "outputs": [
    {
     "name": "stdout",
     "output_type": "stream",
     "text": [
      "[76 91 54 83 70 91 93 99 80 82 88 51 93 94 67 75 84 88 81 77 50 54 85 50\n",
      " 51]\n"
     ]
    }
   ],
   "execution_count": 2
  },
  {
   "cell_type": "code",
   "id": "fbf34522",
   "metadata": {
    "ExecuteTime": {
     "end_time": "2025-05-04T14:26:47.034810Z",
     "start_time": "2025-05-04T14:26:47.028129Z"
    }
   },
   "source": [
    "print(np.mean(testScores))\n",
    "print(np.median(testScores))\n",
    "print(np.std(testScores))\n",
    "print(\"Min:\", np.min(testScores))\n",
    "print(\"Max:\", np.max(testScores))"
   ],
   "outputs": [
    {
     "name": "stdout",
     "output_type": "stream",
     "text": [
      "76.28\n",
      "81.0\n",
      "15.655082241879153\n",
      "Min: 50\n",
      "Max: 99\n"
     ]
    }
   ],
   "execution_count": 3
  },
  {
   "cell_type": "code",
   "id": "9608f0a3",
   "metadata": {
    "ExecuteTime": {
     "end_time": "2025-05-04T14:26:47.402482Z",
     "start_time": "2025-05-04T14:26:47.129997Z"
    }
   },
   "source": [
    "print(\"Position of minimum:\", np.argmin(testScores))\n",
    "print(\"Position of maximum:\", np.argmax(testScores))"
   ],
   "outputs": [
    {
     "ename": "NameError",
     "evalue": "name 'numbers' is not defined",
     "output_type": "error",
     "traceback": [
      "\u001B[31m---------------------------------------------------------------------------\u001B[39m",
      "\u001B[31mNameError\u001B[39m                                 Traceback (most recent call last)",
      "\u001B[36mCell\u001B[39m\u001B[36m \u001B[39m\u001B[32mIn[4]\u001B[39m\u001B[32m, line 1\u001B[39m\n\u001B[32m----> \u001B[39m\u001B[32m1\u001B[39m \u001B[38;5;28mprint\u001B[39m(\u001B[33m\"\u001B[39m\u001B[33mPosition of minimum:\u001B[39m\u001B[33m\"\u001B[39m, np.argmin(\u001B[43mnumbers\u001B[49m))\n\u001B[32m      2\u001B[39m \u001B[38;5;28mprint\u001B[39m(\u001B[33m\"\u001B[39m\u001B[33mPosition of maximum:\u001B[39m\u001B[33m\"\u001B[39m, np.argmax(numbers))\n",
      "\u001B[31mNameError\u001B[39m: name 'numbers' is not defined"
     ]
    }
   ],
   "execution_count": 4
  },
  {
   "cell_type": "code",
   "execution_count": 7,
   "id": "f4aa431f",
   "metadata": {},
   "outputs": [
    {
     "name": "stdout",
     "output_type": "stream",
     "text": [
      "[63.333333333333336, 69.0, 82.33333333333333]\n"
     ]
    }
   ],
   "source": [
    "student_scores = [\n",
    "    [80, 50, 60],\n",
    "    [90, 68, 49],\n",
    "    [90, 86, 71],\n",
    "]\n",
    "\n",
    "average = []\n",
    "\n",
    "for scoreGroup in student_scores:\n",
    "    average.append(sum(scoreGroup) / len(scoreGroup))\n",
    "\n",
    "print(average)"
   ]
  },
  {
   "cell_type": "code",
   "execution_count": null,
   "id": "684b8318",
   "metadata": {},
   "outputs": [],
   "source": [
    "# the axis argument is for the x and y axes of the matrix array where 0 represents the y-axis and 1 represents the x-axis\n",
    "students_average = np.mean(student_scores, axis=1)\n",
    "subjects_average = np.mean(student_scores, axis=0)\n",
    "\n",
    "print(\"Students average\", students_average)\n",
    "print(\"Subjects average\", subjects_average)"
   ]
  }
 ],
 "metadata": {
  "kernelspec": {
   "display_name": "base",
   "language": "python",
   "name": "python3"
  },
  "language_info": {
   "codemirror_mode": {
    "name": "ipython",
    "version": 3
   },
   "file_extension": ".py",
   "mimetype": "text/x-python",
   "name": "python",
   "nbconvert_exporter": "python",
   "pygments_lexer": "ipython3",
   "version": "3.12.7"
  }
 },
 "nbformat": 4,
 "nbformat_minor": 5
}
