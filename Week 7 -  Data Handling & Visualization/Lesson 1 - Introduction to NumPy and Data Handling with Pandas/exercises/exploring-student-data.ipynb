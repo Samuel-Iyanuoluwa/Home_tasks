{
 "cells": [
  {
   "cell_type": "code",
   "execution_count": null,
   "id": "05c7b3f9",
   "metadata": {},
   "outputs": [],
   "source": [
    "import pandas as pd\n",
    "from pprint import pprint"
   ]
  },
  {
   "cell_type": "code",
   "execution_count": null,
   "id": "c4e03ac7",
   "metadata": {},
   "outputs": [],
   "source": [
    "print('\\n')\n",
    "print('Loading students records from CSV...')\n",
    "\n",
    "students_df = pd.read_csv('../../files/students_record.csv')"
   ]
  },
  {
   "cell_type": "code",
   "execution_count": null,
   "id": "15e8d72d",
   "metadata": {},
   "outputs": [],
   "source": [
    "print('\\n============== DATA EXPLORATION ==============')\n",
    "\n",
    "(rows, columns) = students_df.shape\n",
    "\n",
    "print(f\"\\n{rows} rows, {columns} columns\")\n",
    "\n",
    "print('\\n------ COLUMN NAMES ------')\n",
    "pprint(students_df.columns.tolist())\n",
    "\n",
    "print('\\n------ DATA TYPES ------')\n",
    "pprint(students_df.dtypes)\n",
    "\n",
    "print(students_df.head())\n",
    "\n",
    "print('\\n Missing values in each column')\n",
    "print(students_df.isnull().sum())"
   ]
  },
  {
   "cell_type": "code",
   "execution_count": null,
   "id": "12cd25c4",
   "metadata": {},
   "outputs": [],
   "source": [
    "print('\\n============== BASIC STATISTICS ==============')\n",
    "\n",
    "# subject_columns = []\n",
    "# for col in students_df.columns:\n",
    "#     if '_score' in col:\n",
    "#         subject_columns.append(col)\n",
    "\n",
    "# The code below is a list comprehension that produces the same result as the 4 lines of commented code above\n",
    "\n",
    "subject_columns = [col for col in students_df.columns if '_score' in col]\n",
    "\n",
    "print(students_df.describe())\n",
    "\n",
    "students_df['average_score'] = students_df[subject_columns].mean(axis=1).round(2)\n",
    "\n",
    "top_students = students_df.sort_values('average_score', ascending=False).head(5)\n",
    "\n",
    "print('\\n------ TOP 5 STUDENTS ------')\n",
    "print(top_students[['student_id', 'first_name', 'last_name', 'average_score']])"
   ]
  },
  {
   "cell_type": "code",
   "execution_count": null,
   "id": "96a1a5e6",
   "metadata": {},
   "outputs": [],
   "source": [
    "print('\\n============== PASS/FAIL STATUS ==============')\n",
    "\n",
    "def determine_pass_or_fail(score):\n",
    "    return score > 75\n",
    "\n",
    "    # if score > 75:\n",
    "    #     return True\n",
    "    # else\n",
    "    #     return False\n",
    "\n",
    "    # return True if score > 75 else False\n",
    "\n",
    "students_df['pass_fail'] = students_df['average_score'].apply(determine_pass_or_fail)\n",
    "\n",
    "pass_fail_counts = students_df['pass_fail'].value_counts()\n",
    "\n",
    "# print(pass_fail_counts[False])\n",
    "\n",
    "print(\n",
    "    '------ Pass Percentage:',\n",
    "    (pass_fail_counts[True] / len(students_df) * 100).round(2),\n",
    "    '------'\n",
    ")\n",
    "\n",
    "def calculate_pass_percentage(group):\n",
    "    \"\"\"\n",
    "    Counts how many students have True in their pass_fail column, divides by the total number of students in that grade (or group), and multiplies by 100 to get a percentage\n",
    "    \"\"\"\n",
    "\n",
    "    # pass_count = (group == True).sum()\n",
    "\n",
    "    # Although the commented code above gives you the same result as the code below, the one below is a preferred and safer means\n",
    "    # of getting the count of students with True in their respective pass_fail column.\n",
    "    # It's even more self-explanatory than the one above\n",
    "    pass_count = group.value_counts().get(True, 0)\n",
    "\n",
    "    pass_percentage = (pass_count / len(group)) * 100\n",
    "    return round(pass_percentage, 2)\n",
    "\n",
    "\n",
    "# This creates groups of students based on their grade level.\n",
    "# The ['pass_fail'] part specifies that we're only interested in the 'pass_fail' column values for each group\n",
    "grade_level_groups = students_df.groupby('grade_level')['pass_fail']\n",
    "\n",
    "# Here we execute a custom `calculate_pass_percentage`` function on each grade_level group\n",
    "# and calculates what percentage of students that passed\n",
    "grade_level_pass = grade_level_groups.apply(calculate_pass_percentage)\n",
    "print('\\n------ PASS PERCENTAGE BY GRADE LEVEL ------')\n",
    "print(grade_level_pass)\n",
    "\n",
    "# Groups the students dataframe by the 'grade_level' column, selects only the 'average_score' column from each group,\n",
    "# and calculates the mean (average) of the 'average_score' values for each grade level group.\n",
    "# Then we round each mean value to 2 decimal places for cleaner presentation\n",
    "grade_level_avg = students_df.groupby('grade_level')['average_score'].mean().round(2)\n",
    "print('\\n------ AVERAGE SCORE BY GRADE LEVEL ------')\n",
    "print(grade_level_avg)"
   ]
  },
  {
   "cell_type": "markdown",
   "id": "2eabbded",
   "metadata": {},
   "source": [
    "This tells us the average performance of students in each grade level. It's a useful metric for comparing performance across grades and can help identify trends (e.g., whether performance improves as students progress through grades).\n",
    "\n",
    "This approach is much more efficient than manually filtering the dataframe for each grade level and then calculating the mean, especially when dealing with large datasets."
   ]
  },
  {
   "cell_type": "code",
   "execution_count": null,
   "id": "b4fda376",
   "metadata": {},
   "outputs": [],
   "source": [
    "students_df.to_csv('../../files/students_updated_record.csv', index=False)"
   ]
  }
 ],
 "metadata": {
  "kernelspec": {
   "display_name": "base",
   "language": "python",
   "name": "python3"
  },
  "language_info": {
   "codemirror_mode": {
    "name": "ipython",
    "version": 3
   },
   "file_extension": ".py",
   "mimetype": "text/x-python",
   "name": "python",
   "nbconvert_exporter": "python",
   "pygments_lexer": "ipython3",
   "version": "3.12.7"
  }
 },
 "nbformat": 4,
 "nbformat_minor": 5
}
