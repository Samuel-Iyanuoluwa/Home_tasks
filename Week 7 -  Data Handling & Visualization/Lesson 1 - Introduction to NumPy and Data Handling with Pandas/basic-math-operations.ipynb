{
 "cells": [
  {
   "cell_type": "code",
   "execution_count": 1,
   "id": "62340401",
   "metadata": {},
   "outputs": [],
   "source": [
    "import numpy as np"
   ]
  },
  {
   "cell_type": "code",
   "execution_count": 2,
   "id": "0d1d9d5a",
   "metadata": {},
   "outputs": [
    {
     "name": "stdout",
     "output_type": "stream",
     "text": [
      "List addition [2, 4, 6, 7, 8, 9]\n",
      "a + b + c = [12 15 18]\n",
      "a * b = [ 4 10 18]\n",
      "List multiplication [2, 4, 6, 2, 4, 6, 2, 4, 6]\n",
      "a * 2 = [2 4 6]\n"
     ]
    }
   ],
   "source": [
    "# Basic math operations\n",
    "a = np.array([1, 2, 3])\n",
    "b = np.array([4, 5, 6])\n",
    "c = np.array([7, 8, 9])\n",
    "\n",
    "# Arrays must have the same shape for the addition to work as expected\n",
    "\n",
    "print(\"List addition\", [2, 4, 6] + [7, 8, 9])\n",
    "\n",
    "# Element-wise operations\n",
    "print(\"a + b + c =\", a + b + c)  # [5, 7, 9]\n",
    "print(\"a * b =\", a * b)  # [4, 10, 18]\n",
    "\n",
    "print(\"List multiplication\", [2, 4, 6] * 3)\n",
    "\n",
    "# Scalar operations (applied to all elements)\n",
    "print(\"a * 2 =\", a * 2)  # [2, 4, 6]"
   ]
  },
  {
   "cell_type": "code",
   "execution_count": 3,
   "id": "c15cc56f",
   "metadata": {},
   "outputs": [
    {
     "name": "stdout",
     "output_type": "stream",
     "text": [
      "Mean: 27.333333333333332\n",
      "Median: 26.0\n",
      "Standard deviation: 9.741092797468305\n",
      "Min: 15\n",
      "Max: 42\n"
     ]
    }
   ],
   "source": [
    "# Statistical methods (for more than basic operations)\n",
    "data = np.array([15, 23, 42, 18, 37, 29])\n",
    "\n",
    "print(\"Mean:\", np.mean(data))\n",
    "print(\"Median:\", np.median(data))\n",
    "print(\"Standard deviation:\", np.std(data))\n",
    "print(\"Min:\", np.min(data))\n",
    "print(\"Max:\", np.max(data))"
   ]
  },
  {
   "cell_type": "code",
   "execution_count": 4,
   "id": "6810e6b9",
   "metadata": {},
   "outputs": [
    {
     "name": "stdout",
     "output_type": "stream",
     "text": [
      "Position of minimum: 0\n",
      "Position of maximum: 2\n"
     ]
    }
   ],
   "source": [
    "# Finding positions\n",
    "print(\"Position of minimum:\", np.argmin(data))\n",
    "print(\"Position of maximum:\", np.argmax(data))"
   ]
  }
 ],
 "metadata": {
  "kernelspec": {
   "display_name": "base",
   "language": "python",
   "name": "python3"
  },
  "language_info": {
   "codemirror_mode": {
    "name": "ipython",
    "version": 3
   },
   "file_extension": ".py",
   "mimetype": "text/x-python",
   "name": "python",
   "nbconvert_exporter": "python",
   "pygments_lexer": "ipython3",
   "version": "3.12.7"
  }
 },
 "nbformat": 4,
 "nbformat_minor": 5
}
