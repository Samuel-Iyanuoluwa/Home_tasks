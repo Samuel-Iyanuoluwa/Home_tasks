{
 "cells": [
  {
   "cell_type": "code",
   "execution_count": null,
   "id": "d9fcfa88",
   "metadata": {},
   "outputs": [],
   "source": [
    "import pandas as pd\n",
    "import numpy as np\n",
    "\n",
    "students_df = pd.read_csv('../files/students_record.csv')\n",
    "\n",
    "students_df.isnull().sum()\n",
    "\n",
    "# Checking for missing values\n",
    "print(\"Missing values in each column:\")\n",
    "print(students_df.isnull().sum())"
   ]
  }
 ],
 "metadata": {
  "kernelspec": {
   "display_name": "base",
   "language": "python",
   "name": "python3"
  },
  "language_info": {
   "codemirror_mode": {
    "name": "ipython",
    "version": 3
   },
   "file_extension": ".py",
   "mimetype": "text/x-python",
   "name": "python",
   "nbconvert_exporter": "python",
   "pygments_lexer": "ipython3",
   "version": "3.12.7"
  }
 },
 "nbformat": 4,
 "nbformat_minor": 5
}
