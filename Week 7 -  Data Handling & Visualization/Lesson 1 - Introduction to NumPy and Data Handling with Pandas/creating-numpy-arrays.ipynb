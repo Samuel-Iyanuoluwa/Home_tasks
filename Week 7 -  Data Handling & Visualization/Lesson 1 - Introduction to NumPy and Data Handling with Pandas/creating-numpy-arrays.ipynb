{
 "cells": [
  {
   "cell_type": "code",
   "execution_count": 1,
   "id": "c9f2e209-6fb5-4945-8ad8-039fb4c434ee",
   "metadata": {},
   "outputs": [],
   "source": [
    "import numpy as np"
   ]
  },
  {
   "cell_type": "code",
   "execution_count": 2,
   "id": "bbbdd9c2",
   "metadata": {},
   "outputs": [
    {
     "data": {
      "text/plain": [
       "array([ 1,  2,  3,  4,  5,  6,  7,  8,  9, 10])"
      ]
     },
     "execution_count": 2,
     "metadata": {},
     "output_type": "execute_result"
    }
   ],
   "source": [
    "np.array([1, 2, 3, 4, 5, 6, 7, 8, 9, 10])"
   ]
  },
  {
   "cell_type": "code",
   "execution_count": 3,
   "id": "aa22dc36",
   "metadata": {},
   "outputs": [],
   "source": [
    "numbers = [1, 2, 3, 4, 5, 6, 7, 8, 9, 10] # List of numbers\n",
    "numbersGroup = [[1, 2, 3], [4, 5, 6], [7, 8, 9]] # List of \"list of numbers\""
   ]
  },
  {
   "cell_type": "code",
   "execution_count": 4,
   "id": "49089d48",
   "metadata": {},
   "outputs": [
    {
     "name": "stdout",
     "output_type": "stream",
     "text": [
      "1\n"
     ]
    }
   ],
   "source": [
    "print(numbers[0])"
   ]
  },
  {
   "cell_type": "code",
   "execution_count": 5,
   "id": "ced35142",
   "metadata": {},
   "outputs": [
    {
     "name": "stdout",
     "output_type": "stream",
     "text": [
      "[[1, 2, 3], [4, 5, 6], [7, 8, 9]]\n"
     ]
    }
   ],
   "source": [
    "print(numbersGroup)"
   ]
  },
  {
   "cell_type": "code",
   "execution_count": 6,
   "id": "a82ff66d",
   "metadata": {},
   "outputs": [
    {
     "name": "stdout",
     "output_type": "stream",
     "text": [
      "Zeros array: [0. 0. 0. 0. 0.]\n"
     ]
    }
   ],
   "source": [
    "zeros = np.zeros(5)  # Array of 5 zeros\n",
    "print(\"Zeros array:\", zeros)"
   ]
  },
  {
   "cell_type": "code",
   "execution_count": 7,
   "id": "8e1c415a",
   "metadata": {},
   "outputs": [
    {
     "name": "stdout",
     "output_type": "stream",
     "text": [
      "Ones matrix:\n",
      "[[1. 1. 1.]\n",
      " [1. 1. 1.]\n",
      " [1. 1. 1.]]\n"
     ]
    }
   ],
   "source": [
    "ones = np.ones((3, 3))  # 3x3 matrix of ones\n",
    "print(\"Ones matrix:\")\n",
    "print(ones)"
   ]
  },
  {
   "cell_type": "code",
   "execution_count": 8,
   "id": "879922b0",
   "metadata": {},
   "outputs": [
    {
     "name": "stdout",
     "output_type": "stream",
     "text": [
      "Random array: [0.84085608 0.02629976 0.16428392 0.7764956  0.85131284 0.64879759\n",
      " 0.89204489 0.34167329 0.96080862 0.09375461 0.41974232 0.46967654\n",
      " 0.89718783 0.59994198 0.46950179 0.8481258  0.314799   0.18065583\n",
      " 0.68429126 0.37919114]\n"
     ]
    }
   ],
   "source": [
    "# Random numbers\n",
    "random_array = np.random.rand(20)  # 5 random numbers between 0 and 1\n",
    "print(\"Random array:\", random_array)"
   ]
  },
  {
   "cell_type": "code",
   "execution_count": 9,
   "id": "87a9d652",
   "metadata": {},
   "outputs": [
    {
     "name": "stdout",
     "output_type": "stream",
     "text": [
      "Range array: [ 0  4  8 12 16 20 24 28 32 36 40 44 48 52 56 60 64 68 72 76 80 84 88 92\n",
      " 96]\n"
     ]
    }
   ],
   "source": [
    "# Range of values\n",
    "range_array = np.arange(0, 100, 4)  # Start, stop, step\n",
    "print(\"Range array:\", range_array)"
   ]
  }
 ],
 "metadata": {
  "kernelspec": {
   "display_name": "base",
   "language": "python",
   "name": "python3"
  },
  "language_info": {
   "codemirror_mode": {
    "name": "ipython",
    "version": 3
   },
   "file_extension": ".py",
   "mimetype": "text/x-python",
   "name": "python",
   "nbconvert_exporter": "python",
   "pygments_lexer": "ipython3",
   "version": "3.12.7"
  }
 },
 "nbformat": 4,
 "nbformat_minor": 5
}
