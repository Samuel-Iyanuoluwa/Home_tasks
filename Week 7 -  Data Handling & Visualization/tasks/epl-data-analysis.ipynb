{
 "cells": [
  {
   "cell_type": "code",
   "execution_count": 1,
   "id": "initial_id",
   "metadata": {
    "ExecuteTime": {
     "end_time": "2025-05-14T06:15:59.458309Z",
     "start_time": "2025-05-14T06:15:59.455048Z"
    },
    "collapsed": true
   },
   "outputs": [],
   "source": [
    "import pandas as pd"
   ]
  },
  {
   "cell_type": "markdown",
   "id": "24b645b8",
   "metadata": {},
   "source": [
    "# Part 1: Basic Data Exploration and Preparation"
   ]
  },
  {
   "cell_type": "markdown",
   "id": "f2562372",
   "metadata": {},
   "source": [
    "### 1.1. Load the provided CSV files into their respective Pandas DataFrames"
   ]
  },
  {
   "cell_type": "code",
   "execution_count": 2,
   "id": "235f10ac09a9977",
   "metadata": {
    "ExecuteTime": {
     "end_time": "2025-05-14T06:15:59.501043Z",
     "start_time": "2025-05-14T06:15:59.491083Z"
    }
   },
   "outputs": [],
   "source": [
    "epl_teams_df = pd.read_csv('../../data/epl_team_data.csv')\n",
    "epl_players_df = pd.read_csv('../../data/epl_player_data.csv')"
   ]
  },
  {
   "cell_type": "markdown",
   "id": "6cfbb296",
   "metadata": {},
   "source": [
    "### 1.2. Examine the data structure of both datasets (shape, columns, data types)"
   ]
  },
  {
   "cell_type": "code",
   "execution_count": 3,
   "id": "ebd8a5148221fd07",
   "metadata": {
    "ExecuteTime": {
     "end_time": "2025-05-14T06:15:59.737016Z",
     "start_time": "2025-05-14T06:15:59.717465Z"
    }
   },
   "outputs": [
    {
     "name": "stdout",
     "output_type": "stream",
     "text": [
      "EPL Teams Data Information\n",
      "<class 'pandas.core.frame.DataFrame'>\n",
      "RangeIndex: 20 entries, 0 to 19\n",
      "Data columns (total 43 columns):\n",
      " #   Column                    Non-Null Count  Dtype  \n",
      "---  ------                    --------------  -----  \n",
      " 0   team_name                 20 non-null     object \n",
      " 1   matches_played            20 non-null     int64  \n",
      " 2   wins                      20 non-null     int64  \n",
      " 3   draws                     20 non-null     int64  \n",
      " 4   losses                    20 non-null     int64  \n",
      " 5   goals_scored              20 non-null     int64  \n",
      " 6   goals_conceded            20 non-null     int64  \n",
      " 7   goal_difference           20 non-null     int64  \n",
      " 8   points                    20 non-null     int64  \n",
      " 9   position                  20 non-null     int64  \n",
      " 10  home_wins                 20 non-null     int64  \n",
      " 11  home_draws                20 non-null     int64  \n",
      " 12  home_losses               20 non-null     int64  \n",
      " 13  home_goals_scored         20 non-null     int64  \n",
      " 14  home_goals_conceded       20 non-null     int64  \n",
      " 15  away_wins                 20 non-null     int64  \n",
      " 16  away_draws                20 non-null     int64  \n",
      " 17  away_losses               20 non-null     int64  \n",
      " 18  away_goals_scored         20 non-null     int64  \n",
      " 19  away_goals_conceded       20 non-null     int64  \n",
      " 20  clean_sheets              20 non-null     int64  \n",
      " 21  possession_pct            20 non-null     float64\n",
      " 22  shots                     20 non-null     int64  \n",
      " 23  shots_on_target           20 non-null     int64  \n",
      " 24  pass_accuracy             20 non-null     float64\n",
      " 25  crosses                   20 non-null     int64  \n",
      " 26  tackles                   20 non-null     int64  \n",
      " 27  interceptions             20 non-null     int64  \n",
      " 28  fouls_committed           20 non-null     int64  \n",
      " 29  fouls_suffered            20 non-null     int64  \n",
      " 30  yellow_cards              20 non-null     int64  \n",
      " 31  red_cards                 20 non-null     int64  \n",
      " 32  manager_bans              20 non-null     int64  \n",
      " 33  players_suspended         20 non-null     int64  \n",
      " 34  games_missed_suspensions  20 non-null     int64  \n",
      " 35  wage_budget               20 non-null     int64  \n",
      " 36  transfer_spend            20 non-null     int64  \n",
      " 37  stadium_capacity          20 non-null     int64  \n",
      " 38  avg_attendance            20 non-null     int64  \n",
      " 39  xG                        20 non-null     float64\n",
      " 40  xGA                       20 non-null     float64\n",
      " 41  expected_points           20 non-null     float64\n",
      " 42  referee_cards_against     20 non-null     int64  \n",
      "dtypes: float64(5), int64(37), object(1)\n",
      "memory usage: 6.8+ KB\n"
     ]
    }
   ],
   "source": [
    "# Examine data structure\n",
    "\n",
    "print('EPL Teams Data Information')\n",
    "epl_teams_df.info()"
   ]
  },
  {
   "cell_type": "code",
   "execution_count": 4,
   "id": "49aaf9eb2a28f128",
   "metadata": {
    "ExecuteTime": {
     "end_time": "2025-05-14T06:15:59.924605Z",
     "start_time": "2025-05-14T06:15:59.906007Z"
    }
   },
   "outputs": [
    {
     "name": "stdout",
     "output_type": "stream",
     "text": [
      "           team_name  matches_played  wins  draws  losses  goals_scored  \\\n",
      "0    Manchester City              38    28      7       3            96   \n",
      "1            Arsenal              38    28      5       5            91   \n",
      "2          Liverpool              38    24     10       4            86   \n",
      "3        Aston Villa              38    20      8      10            76   \n",
      "4  Tottenham Hotspur              38    20      6      12            74   \n",
      "\n",
      "   goals_conceded  goal_difference  points  position  ...  players_suspended  \\\n",
      "0              34               62      91         1  ...                  5   \n",
      "1              29               62      89         2  ...                  3   \n",
      "2              41               45      82         3  ...                  4   \n",
      "3              61               15      68         4  ...                  6   \n",
      "4              61               13      66         5  ...                  7   \n",
      "\n",
      "   games_missed_suspensions  wage_budget  transfer_spend  stadium_capacity  \\\n",
      "0                        12    250000000       180000000             53400   \n",
      "1                         8    220000000       150000000             60704   \n",
      "2                        10    200000000       165000000             53394   \n",
      "3                        15    150000000       110000000             42682   \n",
      "4                        18    180000000       130000000             62850   \n",
      "\n",
      "   avg_attendance    xG   xGA  expected_points  referee_cards_against  \n",
      "0           53250  90.6  36.0             88.7                     75  \n",
      "1           60050  85.7  32.5             86.1                     68  \n",
      "2           53100  90.6  39.8             83.5                     65  \n",
      "3           42000  65.2  58.9             64.0                     80  \n",
      "4           61500  68.5  55.3             62.8                     72  \n",
      "\n",
      "[5 rows x 43 columns]\n"
     ]
    }
   ],
   "source": [
    "# Display the first few rows of team data\n",
    "\n",
    "print(epl_teams_df.head())"
   ]
  },
  {
   "cell_type": "markdown",
   "id": "e26bb06a",
   "metadata": {},
   "source": [
    "### 1.3. Handle missing values in both datasets"
   ]
  },
  {
   "cell_type": "code",
   "execution_count": 5,
   "id": "a14ad8a48034e7f8",
   "metadata": {
    "ExecuteTime": {
     "end_time": "2025-05-14T06:16:00.184879Z",
     "start_time": "2025-05-14T06:16:00.172776Z"
    }
   },
   "outputs": [
    {
     "name": "stdout",
     "output_type": "stream",
     "text": [
      "\n",
      "Missing values in teams data:\n",
      "team_name                   0\n",
      "matches_played              0\n",
      "wins                        0\n",
      "draws                       0\n",
      "losses                      0\n",
      "goals_scored                0\n",
      "goals_conceded              0\n",
      "goal_difference             0\n",
      "points                      0\n",
      "position                    0\n",
      "home_wins                   0\n",
      "home_draws                  0\n",
      "home_losses                 0\n",
      "home_goals_scored           0\n",
      "home_goals_conceded         0\n",
      "away_wins                   0\n",
      "away_draws                  0\n",
      "away_losses                 0\n",
      "away_goals_scored           0\n",
      "away_goals_conceded         0\n",
      "clean_sheets                0\n",
      "possession_pct              0\n",
      "shots                       0\n",
      "shots_on_target             0\n",
      "pass_accuracy               0\n",
      "crosses                     0\n",
      "tackles                     0\n",
      "interceptions               0\n",
      "fouls_committed             0\n",
      "fouls_suffered              0\n",
      "yellow_cards                0\n",
      "red_cards                   0\n",
      "manager_bans                0\n",
      "players_suspended           0\n",
      "games_missed_suspensions    0\n",
      "wage_budget                 0\n",
      "transfer_spend              0\n",
      "stadium_capacity            0\n",
      "avg_attendance              0\n",
      "xG                          0\n",
      "xGA                         0\n",
      "expected_points             0\n",
      "referee_cards_against       0\n",
      "dtype: int64\n"
     ]
    }
   ],
   "source": [
    "# Handle missing values in both datasets\n",
    "\n",
    "print('\\nMissing values in teams data:')\n",
    "print(epl_teams_df.isnull().sum())"
   ]
  },
  {
   "cell_type": "code",
   "execution_count": 6,
   "id": "d9e5cda8bac92fd4",
   "metadata": {
    "ExecuteTime": {
     "end_time": "2025-05-14T06:16:00.354128Z",
     "start_time": "2025-05-14T06:16:00.346091Z"
    }
   },
   "outputs": [
    {
     "name": "stdout",
     "output_type": "stream",
     "text": [
      "\n",
      "Missing values in players data:\n",
      "player_id           0\n",
      "team_name           0\n",
      "player_name         0\n",
      "nationality         0\n",
      "position            0\n",
      "age                 0\n",
      "matches_played      0\n",
      "matches_started     0\n",
      "minutes_played      0\n",
      "goals               0\n",
      "assists             0\n",
      "shots               0\n",
      "shots_on_target     0\n",
      "passes_completed    0\n",
      "pass_accuracy       0\n",
      "tackles             0\n",
      "interceptions       0\n",
      "fouls_committed     0\n",
      "fouls_suffered      0\n",
      "yellow_cards        0\n",
      "red_cards           0\n",
      "games_suspended     0\n",
      "dtype: int64\n"
     ]
    }
   ],
   "source": [
    "print('\\nMissing values in players data:')\n",
    "print(epl_players_df.isnull().sum())"
   ]
  },
  {
   "cell_type": "markdown",
   "id": "242c9dfb0de3b871",
   "metadata": {},
   "source": [
    "In the case where there's missing data in the teams dataframe, we'd can fix both datasets using the sample code blocks below:"
   ]
  },
  {
   "cell_type": "code",
   "execution_count": 7,
   "id": "4cf2f79dc9882ab1",
   "metadata": {
    "ExecuteTime": {
     "end_time": "2025-05-14T06:16:00.506540Z",
     "start_time": "2025-05-14T06:16:00.499269Z"
    }
   },
   "outputs": [],
   "source": [
    "# For team data\n",
    "if epl_teams_df.isnull().sum().sum() > 0:\n",
    "    # For numerical columns, fill with median\n",
    "    num_cols = epl_teams_df.select_dtypes(include=['int64', 'float64']).columns\n",
    "    for col in num_cols:\n",
    "        if epl_teams_df[col].isnull().sum() > 0:\n",
    "            epl_teams_df[col] = epl_teams_df[col].fillna(epl_teams_df[col].median())\n",
    "\n",
    "    # For categorical columns, fill with mode\n",
    "    # The mode of a range of values represents the most frequently occurring value\n",
    "    cat_cols = epl_teams_df.select_dtypes(include=['object']).columns\n",
    "    for col in cat_cols:\n",
    "        if epl_teams_df[col].isnull().sum() > 0:\n",
    "            epl_teams_df[col] = epl_teams_df[col].fillna(epl_teams_df[col].mode()[0])"
   ]
  },
  {
   "cell_type": "code",
   "execution_count": 8,
   "id": "300db58e8b22b56c",
   "metadata": {
    "ExecuteTime": {
     "end_time": "2025-05-14T06:16:00.716184Z",
     "start_time": "2025-05-14T06:16:00.703146Z"
    }
   },
   "outputs": [],
   "source": [
    "# For player data\n",
    "if epl_players_df.isnull().sum().sum() > 0:\n",
    "    # For numerical columns, fill with median\n",
    "    num_cols = epl_players_df.select_dtypes(include=['int64', 'float64']).columns\n",
    "    for col in num_cols:\n",
    "        if epl_players_df[col].isnull().sum() > 0:\n",
    "            epl_players_df[col] = epl_players_df[col].fillna(epl_players_df[col].median())\n",
    "\n",
    "    # For categorical columns, fill with mode\n",
    "    cat_cols = epl_players_df.select_dtypes(include=['object']).columns\n",
    "    for col in cat_cols:\n",
    "        if epl_players_df[col].isnull().sum() > 0:\n",
    "            epl_players_df[col] = epl_players_df[col].fillna(epl_players_df[col].mode()[0])"
   ]
  },
  {
   "cell_type": "markdown",
   "id": "71827bcb77f2ce69",
   "metadata": {},
   "source": [
    "### 1.4. Perform basic data cleaning (rename columns, fix data types, etc.)"
   ]
  },
  {
   "cell_type": "markdown",
   "id": "8852e2491ec4657b",
   "metadata": {},
   "source": [
    "Example code on how you'd rename a column, if you needed to:\n",
    "\n",
    "In the code below, we are changing the name of the 'goals' column in the players dataframe to 'goals_scored'\n",
    "\n",
    "```python\n",
    "epl_players_df = epl_players_df.rename(columns = { 'goals': 'Goals Scored' })\n",
    "```"
   ]
  },
  {
   "cell_type": "code",
   "execution_count": 9,
   "id": "b31d0adf110b2a84",
   "metadata": {
    "ExecuteTime": {
     "end_time": "2025-05-14T06:16:00.890378Z",
     "start_time": "2025-05-14T06:16:00.873707Z"
    }
   },
   "outputs": [
    {
     "name": "stdout",
     "output_type": "stream",
     "text": [
      "Duplicate entries in teams data:\n",
      "0\n"
     ]
    }
   ],
   "source": [
    "# Check for duplicates\n",
    "print('Duplicate entries in teams data:')\n",
    "print(epl_teams_df.duplicated().sum())"
   ]
  },
  {
   "cell_type": "code",
   "execution_count": 10,
   "id": "571a2c8260094d6b",
   "metadata": {
    "ExecuteTime": {
     "end_time": "2025-05-14T06:16:01.132700Z",
     "start_time": "2025-05-14T06:16:01.119612Z"
    }
   },
   "outputs": [
    {
     "name": "stdout",
     "output_type": "stream",
     "text": [
      "Duplicate entries in players data:\n",
      "0\n"
     ]
    }
   ],
   "source": [
    "print('Duplicate entries in players data:')\n",
    "print(epl_players_df.duplicated().sum())"
   ]
  },
  {
   "cell_type": "code",
   "execution_count": 11,
   "id": "4e242a58575516b2",
   "metadata": {
    "ExecuteTime": {
     "end_time": "2025-05-14T06:16:01.355969Z",
     "start_time": "2025-05-14T06:16:01.341339Z"
    }
   },
   "outputs": [],
   "source": [
    "# Remove duplicates if any exist\n",
    "if epl_teams_df.duplicated().sum() > 0:\n",
    "    epl_teams_df = epl_teams_df.drop_duplicates()\n",
    "    print(\"\\nDuplicates removed from team data.\")\n",
    "\n",
    "if epl_players_df.duplicated().sum() > 0:\n",
    "    epl_players_df = epl_players_df.drop_duplicates()\n",
    "    print(\"\\nDuplicates removed from player data.\")"
   ]
  },
  {
   "cell_type": "code",
   "execution_count": 12,
   "id": "c66619c30b72089d",
   "metadata": {
    "ExecuteTime": {
     "end_time": "2025-05-14T06:16:01.691638Z",
     "start_time": "2025-05-14T06:16:01.684104Z"
    }
   },
   "outputs": [],
   "source": [
    "# Ensure data types are appropriate\n",
    "epl_teams_df['team_name'] = epl_teams_df['team_name'].astype('string')\n",
    "\n",
    "epl_players_df['team_name'] = epl_players_df['team_name'].astype('string')\n",
    "epl_players_df['player_name'] = epl_players_df['player_name'].astype('string')\n",
    "epl_players_df['nationality'] = epl_players_df['nationality'].astype('string')\n",
    "epl_players_df['position'] = epl_players_df['position'].astype('string')"
   ]
  },
  {
   "cell_type": "code",
   "execution_count": 13,
   "id": "82937df87e0abd3b",
   "metadata": {
    "ExecuteTime": {
     "end_time": "2025-05-14T06:16:01.704815Z",
     "start_time": "2025-05-14T06:16:01.698094Z"
    }
   },
   "outputs": [
    {
     "name": "stdout",
     "output_type": "stream",
     "text": [
      "           team_name\n",
      "0    Manchester City\n",
      "1            Arsenal\n",
      "2          Liverpool\n",
      "3        Aston Villa\n",
      "4  Tottenham Hotspur\n",
      "5            Chelsea\n",
      "6   Newcastle United\n",
      "7  Manchester United\n",
      "8    West Ham United\n",
      "9     Crystal Palace\n"
     ]
    }
   ],
   "source": [
    "print(epl_teams_df[['team_name']].head(10))"
   ]
  },
  {
   "cell_type": "code",
   "execution_count": 14,
   "id": "bf8536e157ee63ae",
   "metadata": {
    "ExecuteTime": {
     "end_time": "2025-05-14T06:16:01.851338Z",
     "start_time": "2025-05-14T06:16:01.843558Z"
    }
   },
   "outputs": [
    {
     "name": "stdout",
     "output_type": "stream",
     "text": [
      "           team_name      player_name nationality    position\n",
      "0    Manchester City   Erling Haaland      Norway     Forward\n",
      "1            Arsenal      Bukayo Saka     England     Forward\n",
      "2          Liverpool    Mohamed Salah       Egypt     Forward\n",
      "3        Aston Villa    Ollie Watkins     England     Forward\n",
      "4    Manchester City       Phil Foden     England  Midfielder\n",
      "5            Chelsea      Cole Palmer     England  Midfielder\n",
      "6   Newcastle United   Alexander Isak      Sweden     Forward\n",
      "7  Manchester United  Bruno Fernandes    Portugal  Midfielder\n",
      "8            Chelsea  Conor Gallagher     England  Midfielder\n",
      "9             Fulham    João Palhinha    Portugal  Midfielder\n"
     ]
    }
   ],
   "source": [
    "\n",
    "print(epl_players_df[['team_name', 'player_name', 'nationality', 'position']].head(10))"
   ]
  },
  {
   "cell_type": "markdown",
   "id": "2fbbfa8c7293b138",
   "metadata": {},
   "source": [
    "### 1.5. Create appropriate relationships between the two datasets"
   ]
  },
  {
   "cell_type": "code",
   "execution_count": 15,
   "id": "9f39193c69535507",
   "metadata": {
    "ExecuteTime": {
     "end_time": "2025-05-14T06:16:01.990539Z",
     "start_time": "2025-05-14T06:16:01.982353Z"
    }
   },
   "outputs": [
    {
     "name": "stdout",
     "output_type": "stream",
     "text": [
      "All player teams match teams data. Relationship is established!\n"
     ]
    }
   ],
   "source": [
    "# Get unique team names fro players data\n",
    "player_teams = epl_players_df['team_name'].unique()\n",
    "\n",
    "team_names = epl_teams_df['team_name'].unique()\n",
    "\n",
    "# Check if all players' teams exists in team data (using list comprehension)\n",
    "missing_teams = [team for team in player_teams if team not in team_names]\n",
    "\n",
    "# Alternative: Using for loop\n",
    "# _missing_teams = []\n",
    "# for team in player_teams:\n",
    "#     if team not in team_names:\n",
    "#         _missing_teams.append(team)\n",
    "\n",
    "if missing_teams:\n",
    "    print('The following teams in player data don\\'t match team data:')\n",
    "    print(missing_teams)\n",
    "else:\n",
    "    print('All player teams match teams data. Relationship is established!')"
   ]
  },
  {
   "cell_type": "markdown",
   "id": "734d5d1d9c8e1ea3",
   "metadata": {},
   "source": [
    "### 1.6. Calculate summary statistics for the key numerical columns in both datasets, including disciplinary metrics"
   ]
  },
  {
   "cell_type": "code",
   "execution_count": 16,
   "id": "5d633ba0015cce5",
   "metadata": {
    "ExecuteTime": {
     "end_time": "2025-05-14T06:16:02.358182Z",
     "start_time": "2025-05-14T06:16:02.252618Z"
    }
   },
   "outputs": [
    {
     "name": "stdout",
     "output_type": "stream",
     "text": [
      "EPL 2023/2024 Team Data Summary\n",
      "       matches_played       wins      draws     losses  goals_scored  \\\n",
      "count            20.0  20.000000  20.000000  20.000000     20.000000   \n",
      "mean             38.0  14.900000   8.200000  14.900000     62.300000   \n",
      "std               0.0   6.927444   1.735087   6.512336     17.747053   \n",
      "min              38.0   3.000000   5.000000   3.000000     35.000000   \n",
      "25%              38.0  11.500000   7.000000  11.750000     51.500000   \n",
      "50%              38.0  13.000000   8.500000  14.500000     56.500000   \n",
      "75%              38.0  18.500000   9.000000  18.250000     76.250000   \n",
      "max              38.0  28.000000  12.000000  28.000000     96.000000   \n",
      "\n",
      "       goals_conceded  goal_difference     points  position  home_wins  ...  \\\n",
      "count       20.000000        20.000000  20.000000  20.00000   20.00000  ...   \n",
      "mean        62.300000         0.000000  52.300000  10.50000    9.25000  ...   \n",
      "std         16.591374        31.833448  20.596627   5.91608    4.11512  ...   \n",
      "min         29.000000       -69.000000  16.000000   1.00000    2.00000  ...   \n",
      "25%         58.000000       -14.250000  39.750000   5.75000    7.00000  ...   \n",
      "50%         62.000000        -6.500000  48.500000  10.50000    8.50000  ...   \n",
      "75%         67.000000        14.250000  63.750000  15.25000   12.00000  ...   \n",
      "max        104.000000        62.000000  91.000000  20.00000   17.00000  ...   \n",
      "\n",
      "       players_suspended  games_missed_suspensions   wage_budget  \\\n",
      "count          20.000000                 20.000000  2.000000e+01   \n",
      "mean            7.450000                 18.300000  1.290000e+08   \n",
      "std             2.946452                  7.434627  6.127161e+07   \n",
      "min             3.000000                  8.000000  4.500000e+07   \n",
      "25%             5.750000                 12.750000  8.375000e+07   \n",
      "50%             7.000000                 17.500000  1.075000e+08   \n",
      "75%             9.000000                 22.750000  1.825000e+08   \n",
      "max            15.000000                 35.000000  2.500000e+08   \n",
      "\n",
      "       transfer_spend  stadium_capacity  avg_attendance         xG        xGA  \\\n",
      "count    2.000000e+01         20.000000       20.000000  20.000000  20.000000   \n",
      "mean     8.300000e+07      39011.050000    38405.000000  59.170000  56.395000   \n",
      "std      6.544182e+07      18323.827084    18144.079069  16.983308  11.096489   \n",
      "min      1.000000e+07      10356.000000    10200.000000  32.100000  32.500000   \n",
      "25%      3.375000e+07      25719.500000    25150.000000  48.075000  53.450000   \n",
      "50%      5.750000e+07      35811.000000    35250.000000  54.350000  57.100000   \n",
      "75%      1.225000e+08      53395.500000    53137.500000  69.450000  61.750000   \n",
      "max      2.500000e+08      74310.000000    73500.000000  90.600000  80.500000   \n",
      "\n",
      "       expected_points  referee_cards_against  \n",
      "count        20.000000              20.000000  \n",
      "mean         56.060000              78.700000  \n",
      "std          16.251814               9.603179  \n",
      "min          28.000000              65.000000  \n",
      "25%          46.475000              71.500000  \n",
      "50%          52.750000              78.000000  \n",
      "75%          63.400000              85.750000  \n",
      "max          88.700000              98.000000  \n",
      "\n",
      "[8 rows x 42 columns]\n",
      "EPL 2023/2024 Player Data Summary\n",
      "        player_id         age  matches_played  matches_started  \\\n",
      "count  542.000000  542.000000      542.000000       542.000000   \n",
      "mean   271.500000   28.341328       20.717712        10.662362   \n",
      "std    156.606194    5.915276       11.082768         9.139220   \n",
      "min      1.000000   18.000000        1.000000         0.000000   \n",
      "25%    136.250000   24.000000       11.000000         3.000000   \n",
      "50%    271.500000   28.000000       21.000000         9.000000   \n",
      "75%    406.750000   34.000000       31.000000        16.000000   \n",
      "max    542.000000   38.000000       38.000000        38.000000   \n",
      "\n",
      "       minutes_played       goals     assists       shots  shots_on_target  \\\n",
      "count      542.000000  542.000000  542.000000  542.000000       542.000000   \n",
      "mean      1001.461255    1.658672    1.625461   14.103321         4.857934   \n",
      "std        719.909848    3.144650    2.682513   18.447017         7.500593   \n",
      "min         11.000000    0.000000    0.000000    0.000000         0.000000   \n",
      "25%        401.500000    0.000000    0.000000    2.000000         0.000000   \n",
      "50%        901.500000    0.000000    0.000000    7.000000         2.000000   \n",
      "75%       1369.500000    2.000000    2.000000   18.750000         6.750000   \n",
      "max       3330.000000   27.000000   15.000000  125.000000        55.000000   \n",
      "\n",
      "       passes_completed  pass_accuracy     tackles  interceptions  \\\n",
      "count        542.000000     542.000000  542.000000     542.000000   \n",
      "mean         332.950185      80.241882   13.822878       8.988930   \n",
      "std          284.423962       5.414095   15.242525      10.979559   \n",
      "min            0.000000      65.100000    0.000000       0.000000   \n",
      "25%          118.250000      77.225000    3.000000       1.000000   \n",
      "50%          262.000000      80.700000    9.000000       5.000000   \n",
      "75%          443.750000      84.275000   19.750000      13.000000   \n",
      "max         1667.000000      90.000000   95.000000      70.000000   \n",
      "\n",
      "       fouls_committed  fouls_suffered  yellow_cards   red_cards  \\\n",
      "count       542.000000      542.000000    542.000000  542.000000   \n",
      "mean          9.372694        8.835793      1.182657    0.033210   \n",
      "std          11.455186       10.079755      2.142311    0.207984   \n",
      "min           0.000000        0.000000      0.000000    0.000000   \n",
      "25%           2.000000        2.000000      0.000000    0.000000   \n",
      "50%           6.000000        6.000000      0.000000    0.000000   \n",
      "75%          12.000000       12.000000      1.750000    0.000000   \n",
      "max          83.000000       75.000000     13.000000    2.000000   \n",
      "\n",
      "       games_suspended  \n",
      "count       542.000000  \n",
      "mean          0.116236  \n",
      "std           0.416120  \n",
      "min           0.000000  \n",
      "25%           0.000000  \n",
      "50%           0.000000  \n",
      "75%           0.000000  \n",
      "max           4.000000  \n",
      "\n",
      "\n",
      "\n"
     ]
    }
   ],
   "source": [
    "print('EPL 2023/2024 Team Data Summary')\n",
    "print(epl_teams_df.describe())\n",
    "\n",
    "print('EPL 2023/2024 Player Data Summary')\n",
    "print(epl_players_df.describe())\n",
    "\n",
    "print('\\n\\n')"
   ]
  },
  {
   "cell_type": "code",
   "execution_count": 17,
   "id": "e62902a9f564aef4",
   "metadata": {
    "ExecuteTime": {
     "end_time": "2025-05-14T06:16:02.493484Z",
     "start_time": "2025-05-14T06:16:02.473849Z"
    }
   },
   "outputs": [
    {
     "name": "stdout",
     "output_type": "stream",
     "text": [
      "\\Team Disciplinary Statistics\n",
      "       fouls_committed  yellow_cards  red_cards  manager_bans  \\\n",
      "count        20.000000     20.000000  20.000000     20.000000   \n",
      "mean        419.100000     80.850000   7.150000      0.800000   \n",
      "std          43.394033     10.912451   2.455391      1.151658   \n",
      "min         330.000000     62.000000   3.000000      0.000000   \n",
      "25%         397.500000     75.250000   5.750000      0.000000   \n",
      "50%         420.000000     79.500000   7.000000      0.000000   \n",
      "75%         450.000000     85.750000   9.000000      1.000000   \n",
      "max         490.000000    109.000000  12.000000      4.000000   \n",
      "\n",
      "       players_suspended  games_missed_suspensions  \n",
      "count          20.000000                 20.000000  \n",
      "mean            7.450000                 18.300000  \n",
      "std             2.946452                  7.434627  \n",
      "min             3.000000                  8.000000  \n",
      "25%             5.750000                 12.750000  \n",
      "50%             7.000000                 17.500000  \n",
      "75%             9.000000                 22.750000  \n",
      "max            15.000000                 35.000000  \n"
     ]
    },
    {
     "name": "stderr",
     "output_type": "stream",
     "text": [
      "<>:2: SyntaxWarning: invalid escape sequence '\\T'\n",
      "<>:2: SyntaxWarning: invalid escape sequence '\\T'\n",
      "/var/folders/6c/k0x75_qn4yj3xgqjd5xgh75c0000gn/T/ipykernel_65991/1486348483.py:2: SyntaxWarning: invalid escape sequence '\\T'\n",
      "  print('\\Team Disciplinary Statistics')\n"
     ]
    }
   ],
   "source": [
    "# Discplinary metrics for teams\n",
    "print('\\Team Disciplinary Statistics')\n",
    "team_disciplinary = epl_teams_df[['team_name', 'fouls_committed', 'yellow_cards', 'red_cards', 'manager_bans', 'players_suspended', 'games_missed_suspensions']]\n",
    "print(team_disciplinary.describe())"
   ]
  },
  {
   "cell_type": "code",
   "execution_count": 18,
   "id": "17c12412ebc8bad",
   "metadata": {
    "ExecuteTime": {
     "end_time": "2025-05-14T06:16:02.630211Z",
     "start_time": "2025-05-14T06:16:02.614387Z"
    }
   },
   "outputs": [
    {
     "name": "stdout",
     "output_type": "stream",
     "text": [
      "\n",
      "Player Disciplinary Statistics\n",
      "       fouls_committed  yellow_cards   red_cards  games_suspended\n",
      "count       542.000000    542.000000  542.000000       542.000000\n",
      "mean          9.372694      1.182657    0.033210         0.116236\n",
      "std          11.455186      2.142311    0.207984         0.416120\n",
      "min           0.000000      0.000000    0.000000         0.000000\n",
      "25%           2.000000      0.000000    0.000000         0.000000\n",
      "50%           6.000000      0.000000    0.000000         0.000000\n",
      "75%          12.000000      1.750000    0.000000         0.000000\n",
      "max          83.000000     13.000000    2.000000         4.000000\n"
     ]
    }
   ],
   "source": [
    "# Discplinary metrics for players\n",
    "print('\\nPlayer Disciplinary Statistics')\n",
    "player_discipinary = epl_players_df[['player_name', 'team_name', 'fouls_committed', 'yellow_cards', 'red_cards', 'games_suspended']]\n",
    "print(player_discipinary.describe())"
   ]
  },
  {
   "cell_type": "markdown",
   "id": "b4bad061cd5fded",
   "metadata": {},
   "source": [
    "# Part 2: Team Performance Analysis"
   ]
  },
  {
   "cell_type": "markdown",
   "id": "594d27d104aceb79",
   "metadata": {},
   "source": [
    "### 2.1. Calculate performance metrics for each team"
   ]
  },
  {
   "cell_type": "code",
   "execution_count": 19,
   "id": "4b131b3e6bab79ce",
   "metadata": {
    "ExecuteTime": {
     "end_time": "2025-05-14T06:16:02.763258Z",
     "start_time": "2025-05-14T06:16:02.747008Z"
    }
   },
   "outputs": [
    {
     "name": "stdout",
     "output_type": "stream",
     "text": [
      "\n",
      "Team Performance Metrics:\n",
      "           team_name  avg_goals_scored  avg_goals_conceded  \\\n",
      "0    Manchester City          2.526316            0.894737   \n",
      "1            Arsenal          2.394737            0.763158   \n",
      "2          Liverpool          2.263158            1.078947   \n",
      "3        Aston Villa          2.000000            1.605263   \n",
      "4  Tottenham Hotspur          1.947368            1.605263   \n",
      "\n",
      "   shot_conversion_rate  shot_accuracy  home_win_pct  away_win_pct  \n",
      "0              0.145897       0.372340      0.842105      0.631579  \n",
      "1              0.152174       0.342809      0.789474      0.684211  \n",
      "2              0.136508       0.365079      0.894737      0.368421  \n",
      "3              0.146154       0.346154      0.684211      0.368421  \n",
      "4              0.127586       0.362069      0.578947      0.473684  \n"
     ]
    }
   ],
   "source": [
    "# Add per-match metrics\n",
    "epl_teams_df['avg_goals_scored'] = epl_teams_df['goals_scored'] / epl_teams_df['matches_played']\n",
    "epl_teams_df['avg_goals_conceded'] = epl_teams_df['goals_conceded'] / epl_teams_df['matches_played']\n",
    "\n",
    "# Calculate home vs away performance\n",
    "epl_teams_df['home_points'] = epl_teams_df['home_wins'] * 3 + epl_teams_df['home_draws'] * 1\n",
    "epl_teams_df['away_points'] = epl_teams_df['away_wins'] * 3 + epl_teams_df['away_draws'] * 1\n",
    "epl_teams_df['home_win_pct'] = epl_teams_df['home_wins'] / (epl_teams_df['home_wins'] + epl_teams_df['home_draws'] + epl_teams_df['home_losses'])\n",
    "epl_teams_df['away_win_pct'] = epl_teams_df['away_wins'] / (epl_teams_df['away_wins'] + epl_teams_df['away_draws'] + epl_teams_df['away_losses'])\n",
    "\n",
    "# Goal efficiency metrics\n",
    "epl_teams_df['shot_conversion_rate'] = epl_teams_df['goals_scored'] / epl_teams_df['shots']\n",
    "epl_teams_df['shot_on_target_conversion'] = epl_teams_df['goals_scored'] / epl_teams_df['shots_on_target']\n",
    "epl_teams_df['shot_accuracy'] = epl_teams_df['shots_on_target'] / epl_teams_df['shots']\n",
    "\n",
    "# Display new metrics\n",
    "print(\"\\nTeam Performance Metrics:\")\n",
    "performance_columns = [\n",
    "    'team_name', 'avg_goals_scored', 'avg_goals_conceded', 'shot_conversion_rate',\n",
    "    'shot_accuracy', 'home_win_pct', 'away_win_pct'\n",
    "]\n",
    "print(epl_teams_df[performance_columns].head())"
   ]
  },
  {
   "cell_type": "markdown",
   "id": "75c6ec9dc63f4d19",
   "metadata": {},
   "source": [
    "### 2.2. Create performance rating and Fair Play Index"
   ]
  },
  {
   "cell_type": "code",
   "execution_count": 20,
   "id": "8c672c8a7f22f70d",
   "metadata": {
    "ExecuteTime": {
     "end_time": "2025-05-14T06:16:02.893608Z",
     "start_time": "2025-05-14T06:16:02.881009Z"
    }
   },
   "outputs": [
    {
     "name": "stdout",
     "output_type": "stream",
     "text": [
      "\n",
      "Team Ratings and Fair Play Index:\n",
      "                  team_name  performance_rating  fair_play_index\n",
      "0           Manchester City               231.8            -15.7\n",
      "1                   Arsenal               227.8            -11.5\n",
      "2                 Liverpool               198.2            -13.0\n",
      "3               Aston Villa               132.7            -50.0\n",
      "4         Tottenham Hotspur               117.7            -39.0\n",
      "6          Newcastle United               112.4            -51.0\n",
      "5                   Chelsea               101.1            -79.0\n",
      "7         Manchester United                98.1            -50.0\n",
      "9            Crystal Palace                96.1            -21.0\n",
      "8           West Ham United                83.8            -37.0\n",
      "10   Brighton & Hove Albion                83.4            -31.0\n",
      "12                   Fulham                73.7            -41.0\n",
      "14                  Everton                65.7            -44.0\n",
      "11          AFC Bournemouth                65.4            -52.0\n",
      "13  Wolverhampton Wanderers                54.5            -58.0\n",
      "15                Brentford                54.5            -45.0\n",
      "16        Nottingham Forest                40.4            -60.0\n",
      "17               Luton Town                 7.0            -64.0\n",
      "18                  Burnley                 5.6            -63.0\n",
      "19         Sheffield United               -42.2            -91.0\n"
     ]
    }
   ],
   "source": [
    "# Create performance rating\n",
    "epl_teams_df['performance_rating'] = (\n",
    "        (epl_teams_df['points'] * 2) + (epl_teams_df['goals_scored'] * 0.5) - (epl_teams_df['goals_conceded'] * 0.3) +\n",
    "        (epl_teams_df['clean_sheets'] * 3) - (epl_teams_df['red_cards'] * 2) - (epl_teams_df['yellow_cards'] * 0.5)\n",
    ")\n",
    "\n",
    "# Create Fair Play Index\n",
    "epl_teams_df['fair_play_index'] = 100 - (\n",
    "        (epl_teams_df['fouls_committed'] * 0.1) + (epl_teams_df['yellow_cards'] * 1) +\n",
    "        (epl_teams_df['red_cards'] * 3) + (epl_teams_df['manager_bans'] * 2)\n",
    ")\n",
    "\n",
    "# Display the ratings\n",
    "print(\"\\nTeam Ratings and Fair Play Index:\")\n",
    "rating_cols = ['team_name', 'performance_rating', 'fair_play_index']\n",
    "print(epl_teams_df[rating_cols].sort_values('performance_rating', ascending=False))"
   ]
  },
  {
   "cell_type": "markdown",
   "id": "5bcd917bd6cd9c36",
   "metadata": {},
   "source": [
    "### 2.3. Identify top teams in different categories"
   ]
  },
  {
   "cell_type": "code",
   "execution_count": 21,
   "id": "da12a37eee665e6b",
   "metadata": {
    "ExecuteTime": {
     "end_time": "2025-05-14T06:16:03.041959Z",
     "start_time": "2025-05-14T06:16:03.012910Z"
    }
   },
   "outputs": [
    {
     "name": "stdout",
     "output_type": "stream",
     "text": [
      "\n",
      "Top 5 Attacking Teams:\n",
      "          team_name  goals_scored  avg_goals_scored\n",
      "0   Manchester City            96          2.526316\n",
      "1           Arsenal            91          2.394737\n",
      "2         Liverpool            86          2.263158\n",
      "6  Newcastle United            85          2.236842\n",
      "5           Chelsea            77          2.026316\n",
      "\n",
      "Top 5 Defensive Teams:\n",
      "            team_name  goals_conceded  avg_goals_conceded  clean_sheets\n",
      "1             Arsenal              29            0.763158            18\n",
      "0     Manchester City              34            0.894737            18\n",
      "2           Liverpool              41            1.078947            15\n",
      "14            Everton              51            1.342105            11\n",
      "7   Manchester United              58            1.526316             8\n",
      "\n",
      "Top 5 Most Efficient Teams:\n",
      "           team_name  shot_conversion_rate  goals_scored  shots\n",
      "1            Arsenal              0.152174            91    598\n",
      "3        Aston Villa              0.146154            76    520\n",
      "0    Manchester City              0.145897            96    658\n",
      "6   Newcastle United              0.144068            85    590\n",
      "17        Luton Town              0.136842            52    380\n",
      "\n",
      "Top 5 Most Disciplined Teams:\n",
      "                 team_name  fair_play_index  fouls_committed  yellow_cards  \\\n",
      "1                  Arsenal            -11.5              345            62   \n",
      "2                Liverpool            -13.0              330            71   \n",
      "0          Manchester City            -15.7              357            68   \n",
      "9           Crystal Palace            -21.0              390            70   \n",
      "10  Brighton & Hove Albion            -31.0              400            73   \n",
      "\n",
      "    red_cards  \n",
      "1           5  \n",
      "2           3  \n",
      "0           4  \n",
      "9           4  \n",
      "10          6  \n",
      "\n",
      "Top 5 Most Aggressive Teams:\n",
      "           team_name  fouls_committed  yellow_cards  red_cards\n",
      "19  Sheffield United              490           101         11\n",
      "18           Burnley              480            81         10\n",
      "17        Luton Town              470            79         12\n",
      "14           Everton              460            80          6\n",
      "5            Chelsea              450           109          7\n",
      "\n",
      "Top 5 Overperforming Teams:\n",
      "           team_name  points  expected_points  points_difference\n",
      "3        Aston Villa      68             64.0                4.0\n",
      "4  Tottenham Hotspur      66             62.8                3.2\n",
      "1            Arsenal      89             86.1                2.9\n",
      "0    Manchester City      91             88.7                2.3\n",
      "7  Manchester United      60             60.1               -0.1\n",
      "\n",
      "Top 5 Underperforming Teams:\n",
      "            team_name  points  expected_points  points_difference\n",
      "17         Luton Town      26             38.5              -12.5\n",
      "19   Sheffield United      16             28.0              -12.0\n",
      "16  Nottingham Forest      32             44.0              -12.0\n",
      "18            Burnley      24             36.0              -12.0\n",
      "15          Brentford      39             46.8               -7.8\n"
     ]
    }
   ],
   "source": [
    "# Top 5 attacking teams (most goals scored)\n",
    "print(\"\\nTop 5 Attacking Teams:\")\n",
    "print(epl_teams_df[['team_name', 'goals_scored', 'avg_goals_scored']].sort_values('goals_scored', ascending=False).head(5))\n",
    "\n",
    "# Top 5 defensive teams (fewest goals conceded)\n",
    "print(\"\\nTop 5 Defensive Teams:\")\n",
    "print(epl_teams_df[['team_name', 'goals_conceded', 'avg_goals_conceded', 'clean_sheets']].sort_values('goals_conceded').head(5))\n",
    "\n",
    "# Most efficient teams (highest goal-to-shot ratio)\n",
    "print(\"\\nTop 5 Most Efficient Teams:\")\n",
    "print(epl_teams_df[['team_name', 'shot_conversion_rate', 'goals_scored', 'shots']].sort_values('shot_conversion_rate', ascending=False).head(5))\n",
    "\n",
    "# Most disciplined teams (best Fair Play Index)\n",
    "print(\"\\nTop 5 Most Disciplined Teams:\")\n",
    "print(epl_teams_df[['team_name', 'fair_play_index', 'fouls_committed', 'yellow_cards', 'red_cards']].sort_values('fair_play_index', ascending=False).head(5))\n",
    "\n",
    "# Most aggressive teams (most fouls committed)\n",
    "print(\"\\nTop 5 Most Aggressive Teams:\")\n",
    "print(epl_teams_df[['team_name', 'fouls_committed', 'yellow_cards', 'red_cards']].sort_values('fouls_committed', ascending=False).head(5))\n",
    "\n",
    "# Over/underperforming teams (comparing actual points vs. expected points)\n",
    "epl_teams_df['points_difference'] = epl_teams_df['points'] - epl_teams_df['expected_points']\n",
    "\n",
    "print(\"\\nTop 5 Overperforming Teams:\")\n",
    "print(epl_teams_df[['team_name', 'points', 'expected_points', 'points_difference']].sort_values('points_difference', ascending=False).head(5))\n",
    "\n",
    "print(\"\\nTop 5 Underperforming Teams:\")\n",
    "print(epl_teams_df[['team_name', 'points', 'expected_points', 'points_difference']].sort_values('points_difference').head(5))"
   ]
  },
  {
   "cell_type": "markdown",
   "id": "6fac0e91f9cfbb86",
   "metadata": {},
   "source": [
    "### 2.4 Calculate correlations between key metrics"
   ]
  },
  {
   "cell_type": "code",
   "execution_count": 22,
   "id": "7066535027001a2c",
   "metadata": {
    "ExecuteTime": {
     "end_time": "2025-05-14T06:16:03.181745Z",
     "start_time": "2025-05-14T06:16:03.163588Z"
    }
   },
   "outputs": [
    {
     "name": "stdout",
     "output_type": "stream",
     "text": [
      "\n",
      "Correlation Matrix:\n",
      "                   position    points  wage_budget  possession_pct     shots  \\\n",
      "position           1.000000 -0.975736    -0.939415       -0.898139 -0.950454   \n",
      "points            -0.975736  1.000000     0.942998        0.915645  0.940693   \n",
      "wage_budget       -0.939415  0.942998     1.000000        0.921655  0.948275   \n",
      "possession_pct    -0.898139  0.915645     0.921655        1.000000  0.958885   \n",
      "shots             -0.950454  0.940693     0.948275        0.958885  1.000000   \n",
      "goals_scored      -0.921365  0.924715     0.897658        0.863387  0.922759   \n",
      "goals_conceded     0.765699 -0.859691    -0.763861       -0.776648 -0.756261   \n",
      "yellow_cards       0.319985 -0.413330    -0.204505       -0.332039 -0.280989   \n",
      "red_cards          0.708334 -0.714863    -0.633906       -0.667747 -0.645697   \n",
      "fouls_committed    0.817184 -0.870151    -0.755736       -0.851001 -0.823102   \n",
      "points_difference -0.870618  0.852000     0.754203        0.671536  0.751973   \n",
      "\n",
      "                   goals_scored  goals_conceded  yellow_cards  red_cards  \\\n",
      "position              -0.921365        0.765699      0.319985   0.708334   \n",
      "points                 0.924715       -0.859691     -0.413330  -0.714863   \n",
      "wage_budget            0.897658       -0.763861     -0.204505  -0.633906   \n",
      "possession_pct         0.863387       -0.776648     -0.332039  -0.667747   \n",
      "shots                  0.922759       -0.756261     -0.280989  -0.645697   \n",
      "goals_scored           1.000000       -0.718526     -0.350879  -0.527693   \n",
      "goals_conceded        -0.718526        1.000000      0.595901   0.758500   \n",
      "yellow_cards          -0.350879        0.595901      1.000000   0.415347   \n",
      "red_cards             -0.527693        0.758500      0.415347   1.000000   \n",
      "fouls_committed       -0.781263        0.841735      0.659241   0.731907   \n",
      "points_difference      0.700118       -0.666406     -0.275537  -0.578793   \n",
      "\n",
      "                   fouls_committed  points_difference  \n",
      "position                  0.817184          -0.870618  \n",
      "points                   -0.870151           0.852000  \n",
      "wage_budget              -0.755736           0.754203  \n",
      "possession_pct           -0.851001           0.671536  \n",
      "shots                    -0.823102           0.751973  \n",
      "goals_scored             -0.781263           0.700118  \n",
      "goals_conceded            0.841735          -0.666406  \n",
      "yellow_cards              0.659241          -0.275537  \n",
      "red_cards                 0.731907          -0.578793  \n",
      "fouls_committed           1.000000          -0.673837  \n",
      "points_difference        -0.673837           1.000000  \n",
      "\n",
      "Specific Correlations of Interest:\n",
      "Team wage budget and final position: -0.9394\n",
      "Possession percentage and points earned: 0.9156\n",
      "Number of shots and goals scored: 0.9228\n",
      "Disciplinary record (yellow cards) and league position: 0.3200\n",
      "Fouls committed and goals conceded: 0.8417\n",
      "Possession percentage and pass accuracy: 0.9895\n"
     ]
    }
   ],
   "source": [
    "# Calculate correlations\n",
    "correlation_metrics = [\n",
    "    'position', 'points', 'wage_budget', 'possession_pct', 'shots', 'goals_scored', 'goals_conceded',\n",
    "    'yellow_cards', 'red_cards', 'fouls_committed', 'points_difference'\n",
    "]\n",
    "\n",
    "correlation_matrix = epl_teams_df[correlation_metrics].corr()\n",
    "\n",
    "print(\"\\nCorrelation Matrix:\")\n",
    "print(correlation_matrix)\n",
    "\n",
    "# Specific correlations of interest\n",
    "print(\"\\nSpecific Correlations of Interest:\")\n",
    "print(f\"Team wage budget and final position: {epl_teams_df['wage_budget'].corr(epl_teams_df['position']):.4f}\")\n",
    "print(f\"Possession percentage and points earned: {epl_teams_df['possession_pct'].corr(epl_teams_df['points']):.4f}\")\n",
    "print(f\"Number of shots and goals scored: {epl_teams_df['shots'].corr(epl_teams_df['goals_scored']):.4f}\")\n",
    "print(f\"Disciplinary record (yellow cards) and league position: {epl_teams_df['yellow_cards'].corr(epl_teams_df['position']):.4f}\")\n",
    "print(f\"Fouls committed and goals conceded: {epl_teams_df['fouls_committed'].corr(epl_teams_df['goals_conceded']):.4f}\")\n",
    "print(f\"Possession percentage and pass accuracy: {epl_teams_df['possession_pct'].corr(epl_teams_df['pass_accuracy']):.4f}\")"
   ]
  },
  {
   "cell_type": "markdown",
   "id": "a69baa4cdbf0b0",
   "metadata": {},
   "source": [
    "# Part 3: Player Performance Analysis"
   ]
  },
  {
   "cell_type": "markdown",
   "id": "7172b9466c05f6d",
   "metadata": {},
   "source": [
    "### 3.1. Identify and analyze Nigerian players"
   ]
  },
  {
   "cell_type": "code",
   "execution_count": 23,
   "id": "1062ff787b3ed21b",
   "metadata": {
    "ExecuteTime": {
     "end_time": "2025-05-14T06:16:03.340796Z",
     "start_time": "2025-05-14T06:16:03.302993Z"
    }
   },
   "outputs": [
    {
     "name": "stdout",
     "output_type": "stream",
     "text": [
      "\n",
      "Found 8 Nigerian players in the dataset:\n",
      "       player_name               team_name    position  age\n",
      "14   Taiwo Awoniyi       Nottingham Forest     Forward   26\n",
      "15        Ola Aina       Nottingham Forest    Defender   27\n",
      "16   Calvin Bassey                  Fulham    Defender   24\n",
      "17    Frank Onyeka               Brentford  Midfielder   26\n",
      "18      Alex Iwobi                  Fulham  Midfielder   28\n",
      "241  Alejandro Lee             Aston Villa    Defender   24\n",
      "511   David Wagner  Brighton & Hove Albion     Forward   30\n",
      "519    Jonas Costa                 Everton    Defender   36\n",
      "\n",
      "Performance metrics of Nigerian players:\n",
      "       player_name               team_name    position  matches_played  goals  \\\n",
      "14   Taiwo Awoniyi       Nottingham Forest     Forward              20      6   \n",
      "15        Ola Aina       Nottingham Forest    Defender              22      1   \n",
      "16   Calvin Bassey                  Fulham    Defender              29      1   \n",
      "17    Frank Onyeka               Brentford  Midfielder              26      1   \n",
      "18      Alex Iwobi                  Fulham  Midfielder              32      5   \n",
      "241  Alejandro Lee             Aston Villa    Defender              29      0   \n",
      "511   David Wagner  Brighton & Hove Albion     Forward               8      0   \n",
      "519    Jonas Costa                 Everton    Defender              33      1   \n",
      "\n",
      "     assists  minutes_played  \n",
      "14         3            1150  \n",
      "15         1            1820  \n",
      "16         0            2250  \n",
      "17         2            1050  \n",
      "18         2            2420  \n",
      "241        0            1205  \n",
      "511        1             372  \n",
      "519        0            1981  \n",
      "\n",
      "Nigerian players compared to position averages:\n",
      "     player_name    position  goals  avg_goals  goals_vs_avg  assists  \\\n",
      "0  Taiwo Awoniyi     Forward      6   3.981308      2.018692        3   \n",
      "1       Ola Aina    Defender      1   0.752688      0.247312        1   \n",
      "2  Calvin Bassey    Defender      1   0.752688      0.247312        0   \n",
      "3   Frank Onyeka  Midfielder      1   1.734375     -0.734375        2   \n",
      "4     Alex Iwobi  Midfielder      5   1.734375      3.265625        2   \n",
      "5  Alejandro Lee    Defender      0   0.752688     -0.752688        0   \n",
      "6   David Wagner     Forward      0   3.981308     -3.981308        1   \n",
      "7    Jonas Costa    Defender      1   0.752688      0.247312        0   \n",
      "\n",
      "   avg_assists  assists_vs_avg  fouls_committed  avg_fouls  fouls_vs_avg  \\\n",
      "0     2.065421        0.934579                9   8.028037      0.971963   \n",
      "1     0.672043        0.327957               18  10.290323      7.709677   \n",
      "2     0.672043       -0.672043               15  10.290323      4.709677   \n",
      "3     2.786458       -0.786458               24   9.890625     14.109375   \n",
      "4     2.786458       -0.786458               12   9.890625      2.109375   \n",
      "5     0.672043       -0.672043               16  10.290323      5.709677   \n",
      "6     2.065421       -1.065421                1   8.028037     -7.028037   \n",
      "7     0.672043       -0.672043               19  10.290323      8.709677   \n",
      "\n",
      "   yellow_cards  avg_yellows  yellows_vs_avg  \n",
      "0             2     0.878505        1.121495  \n",
      "1             3     1.403226        1.596774  \n",
      "2             4     1.403226        2.596774  \n",
      "3             8     1.244792        6.755208  \n",
      "4             2     1.244792        0.755208  \n",
      "5             1     1.403226       -0.403226  \n",
      "6             0     0.878505       -0.878505  \n",
      "7             1     1.403226       -0.403226  \n",
      "\n",
      "Disciplinary record comparison:\n",
      "     player_name    position  fouls_committed  fouls_suffered  yellow_cards  \\\n",
      "0  Taiwo Awoniyi     Forward                9              13             2   \n",
      "1       Ola Aina    Defender               18               2             3   \n",
      "2  Calvin Bassey    Defender               15               2             4   \n",
      "3   Frank Onyeka  Midfielder               24               4             8   \n",
      "4     Alex Iwobi  Midfielder               12               8             2   \n",
      "5  Alejandro Lee    Defender               16              12             1   \n",
      "6   David Wagner     Forward                1              11             0   \n",
      "7    Jonas Costa    Defender               19              31             1   \n",
      "\n",
      "   red_cards  games_suspended  \n",
      "0          0                0  \n",
      "1          0                0  \n",
      "2          1                1  \n",
      "3          0                1  \n",
      "4          0                0  \n",
      "5          0                0  \n",
      "6          0                0  \n",
      "7          0                0  \n"
     ]
    },
    {
     "name": "stderr",
     "output_type": "stream",
     "text": [
      "/var/folders/6c/k0x75_qn4yj3xgqjd5xgh75c0000gn/T/ipykernel_65991/2347557272.py:15: SettingWithCopyWarning: \n",
      "A value is trying to be set on a copy of a slice from a DataFrame.\n",
      "Try using .loc[row_indexer,col_indexer] = value instead\n",
      "\n",
      "See the caveats in the documentation: https://pandas.pydata.org/pandas-docs/stable/user_guide/indexing.html#returning-a-view-versus-a-copy\n",
      "  nigerian_players['goals_per_90'] = 90 * nigerian_players['goals'] / nigerian_players['minutes_played']\n",
      "/var/folders/6c/k0x75_qn4yj3xgqjd5xgh75c0000gn/T/ipykernel_65991/2347557272.py:16: SettingWithCopyWarning: \n",
      "A value is trying to be set on a copy of a slice from a DataFrame.\n",
      "Try using .loc[row_indexer,col_indexer] = value instead\n",
      "\n",
      "See the caveats in the documentation: https://pandas.pydata.org/pandas-docs/stable/user_guide/indexing.html#returning-a-view-versus-a-copy\n",
      "  nigerian_players['assists_per_90'] = 90 * nigerian_players['assists'] / nigerian_players['minutes_played']\n",
      "/var/folders/6c/k0x75_qn4yj3xgqjd5xgh75c0000gn/T/ipykernel_65991/2347557272.py:17: SettingWithCopyWarning: \n",
      "A value is trying to be set on a copy of a slice from a DataFrame.\n",
      "Try using .loc[row_indexer,col_indexer] = value instead\n",
      "\n",
      "See the caveats in the documentation: https://pandas.pydata.org/pandas-docs/stable/user_guide/indexing.html#returning-a-view-versus-a-copy\n",
      "  nigerian_players['shots_per_90'] = 90 * nigerian_players['shots'] / nigerian_players['minutes_played']\n"
     ]
    }
   ],
   "source": [
    "# Identify Nigerian players\n",
    "nigerian_players = epl_players_df[epl_players_df['nationality'] == 'Nigeria']\n",
    "\n",
    "print(f\"\\nFound {len(nigerian_players)} Nigerian players in the dataset:\")\n",
    "print(nigerian_players[['player_name', 'team_name', 'position', 'age']])\n",
    "\n",
    "# If Nigerian players exist, analyze their performance\n",
    "if len(nigerian_players) > 0:\n",
    "    # Calculate performance metrics\n",
    "    print(\"\\nPerformance metrics of Nigerian players:\")\n",
    "    performance_cols = ['player_name', 'team_name', 'position', 'matches_played', 'goals', 'assists', 'minutes_played']\n",
    "    print(nigerian_players[performance_cols])\n",
    "\n",
    "    # Calculate per-90-minutes metrics for fair comparison\n",
    "    nigerian_players['goals_per_90'] = 90 * nigerian_players['goals'] / nigerian_players['minutes_played']\n",
    "    nigerian_players['assists_per_90'] = 90 * nigerian_players['assists'] / nigerian_players['minutes_played']\n",
    "    nigerian_players['shots_per_90'] = 90 * nigerian_players['shots'] / nigerian_players['minutes_played']\n",
    "\n",
    "    # Group by position to compare with positional averages\n",
    "    player_position_groups = epl_players_df.groupby('position')\n",
    "\n",
    "    # Calculate averages by position\n",
    "    position_avgs = player_position_groups.agg({\n",
    "        'goals': 'mean',\n",
    "        'assists': 'mean',\n",
    "        'tackles': 'mean',\n",
    "        'interceptions': 'mean',\n",
    "        'fouls_committed': 'mean',\n",
    "        'yellow_cards': 'mean',\n",
    "        'red_cards': 'mean'\n",
    "    }).reset_index()\n",
    "\n",
    "    # Rename columns to indicate these are averages\n",
    "    position_avgs = position_avgs.rename(columns={\n",
    "        'goals': 'avg_goals',\n",
    "        'assists': 'avg_assists',\n",
    "        'tackles': 'avg_tackles',\n",
    "        'interceptions': 'avg_interceptions',\n",
    "        'fouls_committed': 'avg_fouls',\n",
    "        'yellow_cards': 'avg_yellows',\n",
    "        'red_cards': 'avg_reds'\n",
    "    })\n",
    "\n",
    "    # Merge Nigerian players with position averages\n",
    "    nigerian_analysis = pd.merge(nigerian_players, position_avgs, on='position')\n",
    "\n",
    "    # Calculate comparison metrics\n",
    "    nigerian_analysis['goals_vs_avg'] = nigerian_analysis['goals'] - nigerian_analysis['avg_goals']\n",
    "    nigerian_analysis['assists_vs_avg'] = nigerian_analysis['assists'] - nigerian_analysis['avg_assists']\n",
    "    nigerian_analysis['fouls_vs_avg'] = nigerian_analysis['fouls_committed'] - nigerian_analysis['avg_fouls']\n",
    "    nigerian_analysis['yellows_vs_avg'] = nigerian_analysis['yellow_cards'] - nigerian_analysis['avg_yellows']\n",
    "\n",
    "    # Show comparison metrics\n",
    "    print(\"\\nNigerian players compared to position averages:\")\n",
    "    comparison_cols = [\n",
    "        'player_name', 'position', 'goals', 'avg_goals', 'goals_vs_avg', 'assists', 'avg_assists', 'assists_vs_avg',\n",
    "        'fouls_committed', 'avg_fouls', 'fouls_vs_avg', 'yellow_cards', 'avg_yellows', 'yellows_vs_avg'\n",
    "    ]\n",
    "    print(nigerian_analysis[comparison_cols])\n",
    "\n",
    "    # Disciplinary comparison\n",
    "    print(\"\\nDisciplinary record comparison:\")\n",
    "    disc_cols = ['player_name', 'position', 'fouls_committed', 'fouls_suffered', 'yellow_cards', 'red_cards', 'games_suspended']\n",
    "    print(nigerian_analysis[disc_cols])\n",
    "else:\n",
    "    print(\"No Nigerian players found in the dataset.\")"
   ]
  },
  {
   "cell_type": "markdown",
   "id": "151523c9895b97ea",
   "metadata": {},
   "source": [
    "### 3.2. Identify top performers in different categories"
   ]
  },
  {
   "cell_type": "code",
   "execution_count": 24,
   "id": "ea4392f265f0a892",
   "metadata": {
    "ExecuteTime": {
     "end_time": "2025-05-14T06:16:03.483960Z",
     "start_time": "2025-05-14T06:16:03.478820Z"
    }
   },
   "outputs": [],
   "source": [
    "# Filter players with significant minutes played (e.g., at least 450 minutes, or 5 full matches)\n",
    "significant_minutes = 450\n",
    "active_players = epl_players_df[epl_players_df['minutes_played'] >= significant_minutes].copy()"
   ]
  },
  {
   "cell_type": "code",
   "execution_count": 25,
   "id": "d30a19e6c4fc5b04",
   "metadata": {
    "ExecuteTime": {
     "end_time": "2025-05-14T06:16:03.603446Z",
     "start_time": "2025-05-14T06:16:03.595479Z"
    }
   },
   "outputs": [],
   "source": [
    "# Calculate per-90-minutes metrics for fair comparison\n",
    "active_players['goals_per_90'] = 90 * active_players['goals'] / active_players['minutes_played']\n",
    "active_players['assists_per_90'] = 90 * active_players['assists'] / active_players['minutes_played']\n",
    "active_players['shots_per_90'] = 90 * active_players['shots'] / active_players['minutes_played']\n",
    "active_players['tackles_per_90'] = 90 * active_players['tackles'] / active_players['minutes_played']\n",
    "active_players['interceptions_per_90'] = 90 * active_players['interceptions'] / active_players['minutes_played']\n",
    "active_players['fouls_per_90'] = 90 * active_players['fouls_committed'] / active_players['minutes_played']"
   ]
  },
  {
   "cell_type": "code",
   "execution_count": 26,
   "id": "200d48aadb8a0d5b",
   "metadata": {
    "ExecuteTime": {
     "end_time": "2025-05-14T06:16:03.724158Z",
     "start_time": "2025-05-14T06:16:03.714637Z"
    }
   },
   "outputs": [
    {
     "name": "stdout",
     "output_type": "stream",
     "text": [
      "\n",
      "Top 10 Goalscorers:\n",
      "        player_name                team_name    position  goals  goals_per_90  \\\n",
      "0    Erling Haaland          Manchester City     Forward     27      0.936416   \n",
      "6    Alexander Isak         Newcastle United     Forward     21      0.801867   \n",
      "3     Ollie Watkins              Aston Villa     Forward     19      0.542341   \n",
      "4        Phil Foden          Manchester City  Midfielder     19      0.626374   \n",
      "2     Mohamed Salah                Liverpool     Forward     18      0.622837   \n",
      "5       Cole Palmer                  Chelsea  Midfielder     16      0.526894   \n",
      "1       Bukayo Saka                  Arsenal     Forward     16      0.453115   \n",
      "533     George King  Wolverhampton Wanderers     Forward     15      0.530869   \n",
      "43      David Brown        Tottenham Hotspur     Forward     14      0.531870   \n",
      "483     Juan Dubois              Aston Villa  Midfielder     12      0.677116   \n",
      "\n",
      "     matches_played  \n",
      "0                31  \n",
      "6                30  \n",
      "3                37  \n",
      "4                35  \n",
      "2                32  \n",
      "5                34  \n",
      "1                38  \n",
      "533              32  \n",
      "43               38  \n",
      "483              35  \n"
     ]
    }
   ],
   "source": [
    "# Top goalscorers\n",
    "print(\"\\nTop 10 Goalscorers:\")\n",
    "top_goals = active_players[['player_name', 'team_name', 'position', 'goals', 'goals_per_90', 'matches_played']]\n",
    "print(top_goals.sort_values('goals', ascending=False).head(10))"
   ]
  },
  {
   "cell_type": "code",
   "execution_count": 27,
   "id": "5f580c4c74cd44b7",
   "metadata": {
    "ExecuteTime": {
     "end_time": "2025-05-14T06:16:03.868507Z",
     "start_time": "2025-05-14T06:16:03.857165Z"
    }
   },
   "outputs": [
    {
     "name": "stdout",
     "output_type": "stream",
     "text": [
      "\n",
      "Top 10 Assist Providers:\n",
      "             player_name                team_name    position  assists  \\\n",
      "507  Alessandro Thompson          Manchester City  Midfielder       15   \n",
      "310         John Ferrari                  Everton  Midfielder       15   \n",
      "534      Mohammed Becker          AFC Bournemouth  Midfielder       14   \n",
      "114       Nathan Fischer                Liverpool  Midfielder       13   \n",
      "3          Ollie Watkins              Aston Villa     Forward       13   \n",
      "296          Lukas Lewis          Manchester City  Midfielder       13   \n",
      "442          Karim Bruno  Wolverhampton Wanderers  Midfielder       12   \n",
      "384          Hans Clarke                  Burnley  Midfielder       12   \n",
      "27            Tim Thomas          Manchester City  Midfielder       11   \n",
      "1            Bukayo Saka                  Arsenal     Forward       11   \n",
      "\n",
      "     assists_per_90  matches_played  \n",
      "507        0.601069              33  \n",
      "310        0.713154              24  \n",
      "534        0.959634              21  \n",
      "114        0.522555              37  \n",
      "3          0.371075              37  \n",
      "296        0.436567              31  \n",
      "442        0.745856              28  \n",
      "384        0.449438              36  \n",
      "27         0.594238              35  \n",
      "1          0.311517              38  \n"
     ]
    }
   ],
   "source": [
    "# Top assist providers\n",
    "print(\"\\nTop 10 Assist Providers:\")\n",
    "top_assists = active_players[['player_name', 'team_name', 'position', 'assists', 'assists_per_90', 'matches_played']]\n",
    "print(top_assists.sort_values('assists', ascending=False).head(10))"
   ]
  },
  {
   "cell_type": "code",
   "execution_count": 28,
   "id": "e7f1d8b1e559bd49",
   "metadata": {
    "ExecuteTime": {
     "end_time": "2025-05-14T06:16:04.032739Z",
     "start_time": "2025-05-14T06:16:04.027133Z"
    }
   },
   "outputs": [],
   "source": [
    "# Goal contributions (goals + assists)\n",
    "active_players['goal_contributions'] = active_players['goals'] + active_players['assists']\n",
    "active_players['goal_contributions_per_90'] = active_players['goals_per_90'] + active_players['assists_per_90']"
   ]
  },
  {
   "cell_type": "code",
   "execution_count": 29,
   "id": "afa1f8ccd24184bc",
   "metadata": {
    "ExecuteTime": {
     "end_time": "2025-05-14T06:16:04.183457Z",
     "start_time": "2025-05-14T06:16:04.173207Z"
    }
   },
   "outputs": [
    {
     "name": "stdout",
     "output_type": "stream",
     "text": [
      "\n",
      "Top 10 Goal Contributors:\n",
      "             player_name          team_name    position  goal_contributions  \\\n",
      "0         Erling Haaland    Manchester City     Forward                  32   \n",
      "3          Ollie Watkins        Aston Villa     Forward                  32   \n",
      "2          Mohamed Salah          Liverpool     Forward                  27   \n",
      "4             Phil Foden    Manchester City  Midfielder                  27   \n",
      "1            Bukayo Saka            Arsenal     Forward                  27   \n",
      "5            Cole Palmer            Chelsea  Midfielder                  25   \n",
      "6         Alexander Isak   Newcastle United     Forward                  23   \n",
      "157       Antoine Garcia    Manchester City     Forward                  21   \n",
      "354           Kyle Silva  Nottingham Forest     Forward                  18   \n",
      "507  Alessandro Thompson    Manchester City  Midfielder                  18   \n",
      "\n",
      "     goal_contributions_per_90  matches_played  \n",
      "0                     1.109827              31  \n",
      "3                     0.913416              37  \n",
      "2                     0.934256              32  \n",
      "4                     0.890110              35  \n",
      "1                     0.764632              38  \n",
      "5                     0.823271              34  \n",
      "6                     0.878235              30  \n",
      "157                   0.755698              38  \n",
      "354                   1.306452              37  \n",
      "507                   0.721282              33  \n"
     ]
    }
   ],
   "source": [
    "print(\"\\nTop 10 Goal Contributors:\")\n",
    "top_contributors = active_players[['player_name', 'team_name', 'position', 'goal_contributions', 'goal_contributions_per_90', 'matches_played']]\n",
    "print(top_contributors.sort_values('goal_contributions', ascending=False).head(10))"
   ]
  },
  {
   "cell_type": "code",
   "execution_count": 30,
   "id": "1337595a7934aa43",
   "metadata": {
    "ExecuteTime": {
     "end_time": "2025-05-14T06:16:04.326903Z",
     "start_time": "2025-05-14T06:16:04.320083Z"
    }
   },
   "outputs": [],
   "source": [
    "# Best defensive record - split by position\n",
    "defenders = active_players[active_players['position'].isin(['Defender', 'Center-back', 'Full-back'])]\n",
    "midfielders = active_players[active_players['position'].isin(['Midfielder', 'Central midfielder', 'Defensive midfielder'])]"
   ]
  },
  {
   "cell_type": "code",
   "execution_count": 31,
   "id": "46f78423e1fe1d9c",
   "metadata": {
    "ExecuteTime": {
     "end_time": "2025-05-14T06:16:04.468282Z",
     "start_time": "2025-05-14T06:16:04.462628Z"
    }
   },
   "outputs": [
    {
     "name": "stderr",
     "output_type": "stream",
     "text": [
      "/var/folders/6c/k0x75_qn4yj3xgqjd5xgh75c0000gn/T/ipykernel_65991/1885979438.py:2: SettingWithCopyWarning: \n",
      "A value is trying to be set on a copy of a slice from a DataFrame.\n",
      "Try using .loc[row_indexer,col_indexer] = value instead\n",
      "\n",
      "See the caveats in the documentation: https://pandas.pydata.org/pandas-docs/stable/user_guide/indexing.html#returning-a-view-versus-a-copy\n",
      "  defenders['defensive_actions'] = defenders['tackles'] + defenders['interceptions']\n",
      "/var/folders/6c/k0x75_qn4yj3xgqjd5xgh75c0000gn/T/ipykernel_65991/1885979438.py:3: SettingWithCopyWarning: \n",
      "A value is trying to be set on a copy of a slice from a DataFrame.\n",
      "Try using .loc[row_indexer,col_indexer] = value instead\n",
      "\n",
      "See the caveats in the documentation: https://pandas.pydata.org/pandas-docs/stable/user_guide/indexing.html#returning-a-view-versus-a-copy\n",
      "  defenders['defensive_actions_per_90'] = defenders['tackles_per_90'] + defenders['interceptions_per_90']\n"
     ]
    }
   ],
   "source": [
    "# Top defenders (by tackles + interceptions)\n",
    "defenders['defensive_actions'] = defenders['tackles'] + defenders['interceptions']\n",
    "defenders['defensive_actions_per_90'] = defenders['tackles_per_90'] + defenders['interceptions_per_90']"
   ]
  },
  {
   "cell_type": "code",
   "execution_count": 32,
   "id": "276455b33e3c24fe",
   "metadata": {
    "ExecuteTime": {
     "end_time": "2025-05-14T06:16:04.612501Z",
     "start_time": "2025-05-14T06:16:04.602150Z"
    }
   },
   "outputs": [
    {
     "name": "stdout",
     "output_type": "stream",
     "text": [
      "\n",
      "Top 10 Defenders (by defensive actions):\n",
      "          player_name                team_name  position  defensive_actions  \\\n",
      "30      Pierre Harris                Brentford  Defender                152   \n",
      "10      Marcos Senesi          AFC Bournemouth  Defender                145   \n",
      "343       Jonas White        Tottenham Hotspur  Defender                134   \n",
      "348       John Becker          West Ham United  Defender                130   \n",
      "499  Charlie Harrison                  Chelsea  Defender                114   \n",
      "439      Julien Jones                Liverpool  Defender                113   \n",
      "431   Giovanni Wagner                  Chelsea  Defender                 95   \n",
      "283       Tyler Smith                Brentford  Defender                 93   \n",
      "429       Kyle Walker                  Chelsea  Defender                 86   \n",
      "523      Abdul Watson  Wolverhampton Wanderers  Defender                 85   \n",
      "\n",
      "     defensive_actions_per_90  matches_played  \n",
      "30                   5.259516              34  \n",
      "10                   3.918919              37  \n",
      "343                  5.789726              29  \n",
      "348                  5.446927              30  \n",
      "499                  5.548945              27  \n",
      "439                  4.314807              33  \n",
      "431                  5.654762              29  \n",
      "283                  5.060459              35  \n",
      "429                  3.553719              36  \n",
      "523                  3.152040              33  \n"
     ]
    }
   ],
   "source": [
    "print(\"\\nTop 10 Defenders (by defensive actions):\")\n",
    "top_defenders = defenders[['player_name', 'team_name', 'position', 'defensive_actions', 'defensive_actions_per_90', 'matches_played']]\n",
    "print(top_defenders.sort_values('defensive_actions', ascending=False).head(10))"
   ]
  },
  {
   "cell_type": "code",
   "execution_count": 33,
   "id": "8230fb3ace1b56e1",
   "metadata": {
    "ExecuteTime": {
     "end_time": "2025-05-14T06:16:04.772962Z",
     "start_time": "2025-05-14T06:16:04.765239Z"
    }
   },
   "outputs": [],
   "source": [
    "# Discipline metrics - cards per 90 minutes\n",
    "active_players['cards_per_90'] = 90 * (active_players['yellow_cards'] + 3*active_players['red_cards']) / active_players['minutes_played']\n",
    "active_players['discipline_index'] = 100 - (active_players['yellow_cards'] * 3 + active_players['red_cards'] * 10)"
   ]
  },
  {
   "cell_type": "code",
   "execution_count": 34,
   "id": "e4107a123aff70f1",
   "metadata": {
    "ExecuteTime": {
     "end_time": "2025-05-14T06:16:04.911533Z",
     "start_time": "2025-05-14T06:16:04.907463Z"
    }
   },
   "outputs": [
    {
     "name": "stdout",
     "output_type": "stream",
     "text": [
      "\n",
      "Top 10 Most Disciplined Players (with at least 10 matches):\n"
     ]
    }
   ],
   "source": [
    "# Most disciplined players (lowest cards per minute)\n",
    "print(\"\\nTop 10 Most Disciplined Players (with at least 10 matches):\")"
   ]
  },
  {
   "cell_type": "code",
   "execution_count": 35,
   "id": "25ac7ba72ef17b08",
   "metadata": {
    "ExecuteTime": {
     "end_time": "2025-05-14T06:16:05.078210Z",
     "start_time": "2025-05-14T06:16:05.061779Z"
    }
   },
   "outputs": [
    {
     "name": "stdout",
     "output_type": "stream",
     "text": [
      "        player_name               team_name    position  yellow_cards  \\\n",
      "539     Omar Turner       Tottenham Hotspur  Midfielder             0   \n",
      "170    Max Hoffmann          Crystal Palace  Midfielder             0   \n",
      "174      Juan Brown               Liverpool     Forward             0   \n",
      "176     Ahmed Gomez              Luton Town  Midfielder             0   \n",
      "178     Isaac Lopez                 Arsenal     Forward             0   \n",
      "179      Jean Meyer                 Arsenal    Defender             0   \n",
      "354      Kyle Silva       Nottingham Forest     Forward             0   \n",
      "352   Mason Richard        Newcastle United    Defender             0   \n",
      "351  William Muller  Brighton & Hove Albion  Goalkeeper             0   \n",
      "350     Oscar Scott         West Ham United  Midfielder             0   \n",
      "\n",
      "     red_cards  cards_per_90  discipline_index  matches_played  \n",
      "539          0           0.0               100              14  \n",
      "170          0           0.0               100              15  \n",
      "174          0           0.0               100              27  \n",
      "176          0           0.0               100              15  \n",
      "178          0           0.0               100              15  \n",
      "179          0           0.0               100              28  \n",
      "354          0           0.0               100              37  \n",
      "352          0           0.0               100              17  \n",
      "351          0           0.0               100              31  \n",
      "350          0           0.0               100              15  \n"
     ]
    }
   ],
   "source": [
    "# Filter the dataframe to retrieve players that have played over 10 games\n",
    "playersWithOver10Games = active_players[active_players['matches_played'] >= 10]\n",
    "\n",
    "disciplined = playersWithOver10Games[\n",
    "    ['player_name', 'team_name', 'position', 'yellow_cards', 'red_cards', 'cards_per_90', 'discipline_index', 'matches_played']\n",
    "]\n",
    "print(disciplined.sort_values('cards_per_90').head(10))"
   ]
  },
  {
   "cell_type": "code",
   "execution_count": 36,
   "id": "c7cebeaec1d1be4a",
   "metadata": {
    "ExecuteTime": {
     "end_time": "2025-05-14T06:16:05.237050Z",
     "start_time": "2025-05-14T06:16:05.222904Z"
    }
   },
   "outputs": [
    {
     "name": "stdout",
     "output_type": "stream",
     "text": [
      "\n",
      "Top 10 Most Aggressive Players (most fouls committed):\n",
      "         player_name          team_name    position  fouls_committed  \\\n",
      "8    Conor Gallagher            Chelsea  Midfielder               83   \n",
      "195     Leo Harrison          Liverpool    Defender               81   \n",
      "9      João Palhinha             Fulham  Midfielder               65   \n",
      "11     Yves Bissouma  Tottenham Hotspur  Midfielder               65   \n",
      "44       Lewis Simon        Aston Villa    Defender               58   \n",
      "384      Hans Clarke            Burnley  Midfielder               57   \n",
      "7    Bruno Fernandes  Manchester United  Midfielder               55   \n",
      "12   Oliver McBurnie   Sheffield United     Forward               55   \n",
      "417   Mohammed Ricci            Chelsea    Defender               54   \n",
      "280       Juan Evans        Aston Villa  Midfielder               52   \n",
      "\n",
      "     fouls_per_90  matches_played  \n",
      "8        2.473510              37  \n",
      "195      3.881789              25  \n",
      "9        2.031956              35  \n",
      "11       2.267442              33  \n",
      "44       2.890365              27  \n",
      "384      2.134831              36  \n",
      "7        1.666667              35  \n",
      "12       1.903846              34  \n",
      "417      2.020790              37  \n",
      "280      1.426394              38  \n"
     ]
    }
   ],
   "source": [
    "# Most aggressive players (most fouls)\n",
    "print(\"\\nTop 10 Most Aggressive Players (most fouls committed):\")\n",
    "aggressive = active_players[['player_name', 'team_name', 'position', 'fouls_committed', 'fouls_per_90', 'matches_played']]\n",
    "print(aggressive.sort_values('fouls_committed', ascending=False).head(10))"
   ]
  },
  {
   "cell_type": "code",
   "execution_count": 37,
   "id": "c22ab29b197dff8a",
   "metadata": {
    "ExecuteTime": {
     "end_time": "2025-05-14T06:16:05.378281Z",
     "start_time": "2025-05-14T06:16:05.372956Z"
    }
   },
   "outputs": [],
   "source": [
    "# Create player value metric for overall contribution\n",
    "# For attackers and midfielders\n",
    "attacking_value = (active_players['goals'] * 3) + (active_players['assists'] * 2) + (active_players['shots_on_target'] * 0.5)"
   ]
  },
  {
   "cell_type": "code",
   "execution_count": 38,
   "id": "67248817b5848692",
   "metadata": {
    "ExecuteTime": {
     "end_time": "2025-05-14T06:16:05.546894Z",
     "start_time": "2025-05-14T06:16:05.541530Z"
    }
   },
   "outputs": [],
   "source": [
    "# For defenders and goalkeepers\n",
    "defensive_value = (active_players['tackles'] * 1) + (active_players['interceptions'] * 1.5)"
   ]
  },
  {
   "cell_type": "code",
   "execution_count": 39,
   "id": "ae0b1ea1f63b9f71",
   "metadata": {
    "ExecuteTime": {
     "end_time": "2025-05-14T06:16:05.707377Z",
     "start_time": "2025-05-14T06:16:05.702869Z"
    }
   },
   "outputs": [],
   "source": [
    "# Combined player value metric\n",
    "active_players['player_value'] = attacking_value + defensive_value - (active_players['yellow_cards'] * 1) - (active_players['red_cards'] * 3)"
   ]
  },
  {
   "cell_type": "code",
   "execution_count": 40,
   "id": "faca62d783c2a2e5",
   "metadata": {
    "ExecuteTime": {
     "end_time": "2025-05-14T06:16:05.848546Z",
     "start_time": "2025-05-14T06:16:05.838747Z"
    }
   },
   "outputs": [
    {
     "name": "stdout",
     "output_type": "stream",
     "text": [
      "\n",
      "Top 10 Most Valuable Players (Overall Contribution):\n",
      "          player_name          team_name    position  player_value  goals  \\\n",
      "9       João Palhinha             Fulham  Midfielder         205.5      4   \n",
      "30      Pierre Harris          Brentford    Defender         203.0      5   \n",
      "11      Yves Bissouma  Tottenham Hotspur  Midfielder         200.0      2   \n",
      "8     Conor Gallagher            Chelsea  Midfielder         186.5      5   \n",
      "10      Marcos Senesi    AFC Bournemouth    Defender         169.5      1   \n",
      "343       Jonas White  Tottenham Hotspur    Defender         164.5      2   \n",
      "348       John Becker    West Ham United    Defender         159.0      0   \n",
      "439      Julien Jones          Liverpool    Defender         151.5      4   \n",
      "499  Charlie Harrison            Chelsea    Defender         149.5      1   \n",
      "1         Bukayo Saka            Arsenal     Forward         148.0     16   \n",
      "\n",
      "     assists  tackles  interceptions  matches_played  \n",
      "9          1       95             70              35  \n",
      "30         0       84             68              34  \n",
      "11         3       95             70              33  \n",
      "8          5       85             55              37  \n",
      "10         1       85             60              37  \n",
      "343        1       79             55              29  \n",
      "348        0       74             56              30  \n",
      "439        4       60             53              33  \n",
      "499        3       61             53              27  \n",
      "1         11       35             18              38  \n"
     ]
    }
   ],
   "source": [
    "# Most valuable players overall\n",
    "print(\"\\nTop 10 Most Valuable Players (Overall Contribution):\")\n",
    "valuable = active_players[['player_name', 'team_name', 'position', 'player_value', 'goals', 'assists', 'tackles', 'interceptions', 'matches_played']]\n",
    "print(valuable.sort_values('player_value', ascending=False).head(10))"
   ]
  },
  {
   "cell_type": "markdown",
   "id": "370cdb03c95ca7d2",
   "metadata": {},
   "source": [
    "# 4. Saving Results to CSV Files"
   ]
  },
  {
   "cell_type": "code",
   "execution_count": 41,
   "id": "4ebb7c1e08fbe364",
   "metadata": {
    "ExecuteTime": {
     "end_time": "2025-05-14T06:16:05.983996Z",
     "start_time": "2025-05-14T06:16:05.972450Z"
    }
   },
   "outputs": [
    {
     "name": "stdout",
     "output_type": "stream",
     "text": [
      "\n",
      "Team analysis results successfully exported to 'epl_team_analysis_results.csv'\n"
     ]
    }
   ],
   "source": [
    "# Save team analysis results\n",
    "team_analysis_results = epl_teams_df.copy()\n",
    "\n",
    "# Export to CSV\n",
    "try:\n",
    "    team_analysis_results.to_csv('epl_team_analysis_results.csv', index=False)\n",
    "    print(\"\\nTeam analysis results successfully exported to 'epl_team_analysis_results.csv'\")\n",
    "except Exception as e:\n",
    "    print(f\"Error exporting team analysis results: {e}\")"
   ]
  },
  {
   "cell_type": "code",
   "execution_count": 42,
   "id": "4fb7353472f46eaf",
   "metadata": {
    "ExecuteTime": {
     "end_time": "2025-05-14T06:16:06.241607Z",
     "start_time": "2025-05-14T06:16:06.176658Z"
    }
   },
   "outputs": [
    {
     "name": "stdout",
     "output_type": "stream",
     "text": [
      "Player analysis results successfully exported to 'epl_player_analysis_results.csv'\n"
     ]
    }
   ],
   "source": [
    "# Save player analysis results\n",
    "player_analysis_results = active_players.copy()\n",
    "\n",
    "# Export to CSV\n",
    "try:\n",
    "    player_analysis_results.to_csv('epl_player_analysis_results.csv', index=False)\n",
    "    print(\"Player analysis results successfully exported to 'epl_player_analysis_results.csv'\")\n",
    "except Exception as e:\n",
    "    print(f\"Error exporting player analysis results: {e}\")"
   ]
  },
  {
   "cell_type": "markdown",
   "id": "e13e9b3d60fe7ac3",
   "metadata": {},
   "source": [
    "# Summary Report for Nigerian Sports Broadcasters\n",
    "\n",
    "#### EPL 2023/2024 Season Analysis Report: Key Insights for Nigerian Sports Broadcasters\n",
    "\n",
    "### Team Performance Highlights\n",
    "\n",
    "1. **League Champions**: Manchester City claimed the title with 91 points, just 2 points ahead of Arsenal. This narrow margin highlights the competitive nature of the season.\n",
    "\n",
    "2. **Top Attacking Teams**: Manchester City (96 goals), Arsenal (91 goals), and Liverpool (86 goals) were the most prolific scoring teams in the league.\n",
    "\n",
    "3. **Best Defensive Teams**: Arsenal and Manchester City both conceded just 29 and 34 goals respectively, showing their defensive strength alongside their attacking prowess.\n",
    "\n",
    "4. **Most Efficient Teams**: The teams with the highest goal-to-shot conversion rates were [List top 3 efficient teams], demonstrating clinical finishing.\n",
    "\n",
    "5. **Overachievers**: [List top 3 overachieving teams] exceeded their expected points total by the largest margin, suggesting strong mental fortitude and game management.\n",
    "\n",
    "6. **Disciplinary Insights**: [List most disciplined and most aggressive teams] were at opposite ends of the Fair Play Index, which could provide interesting talking points during broadcasts.\n",
    "\n",
    "### Nigerian Players Spotlight\n",
    "\n",
    "1. **Performance Overview**: [Add summary of Nigerian players' performances] \n",
    "\n",
    "2. **Standout Nigerian Players**: [Highlight any Nigerian players with exceptional stats]\n",
    "\n",
    "3. **Comparison to Position Averages**: [Discuss how Nigerian players compare to the average for their positions]\n",
    "\n",
    "4. **Disciplinary Records**: [Comment on the disciplinary records of Nigerian players]\n",
    "\n",
    "### League-Wide Player Insights\n",
    "\n",
    "1. **Golden Boot Race**: [List top goalscorers] led the scoring charts, providing fans with an exciting race throughout the season.\n",
    "\n",
    "2. **Assist Kings**: [List top assist providers] showed their creative capabilities, setting up teammates consistently.\n",
    "\n",
    "3. **Defensive Stalwarts**: [List top defenders] were crucial to their teams' defensive solidity.\n",
    "\n",
    "4. **Discipline and Aggression**: [List most disciplined and most aggressive players] represented opposite ends of the disciplinary spectrum.\n",
    "\n",
    "### Correlation Insights\n",
    "\n",
    "1. Our analysis shows a [strong/moderate/weak] correlation between wage budget and final league position, indicating that [interpretation].\n",
    "\n",
    "2. The correlation between possession percentage and points earned is [positive/negative/non-existent], suggesting that [interpretation].\n",
    "\n",
    "3. Teams with higher shot accuracy tended to [finish higher/lower] in the league, with a correlation of [value].\n",
    "\n",
    "### Broadcast Recommendations\n",
    "\n",
    "1. Consider highlighting the performances of Nigerian players compared to their peers when broadcasting matches involving their teams.\n",
    "\n",
    "2. The disciplinary aspects of the game (cards, fouls) showed interesting correlations with team success and could be a compelling narrative during broadcasts.\n",
    "\n",
    "3. When discussing team efficiency, note the significant variation in shot conversion rates across the league, which ranged from [min] to [max].\n",
    "\n",
    "4. The data shows that home advantage [was/was not] a significant factor this season, with teams averaging [value] more points at home than away.\n",
    "\n",
    "### Further Analysis Opportunities\n",
    "\n",
    "For future broadcasts, deeper analysis into playing styles, tactical patterns, and manager influence could provide additional insights for viewers."
   ]
  }
 ],
 "metadata": {
  "kernelspec": {
   "display_name": "base",
   "language": "python",
   "name": "python3"
  },
  "language_info": {
   "codemirror_mode": {
    "name": "ipython",
    "version": 3
   },
   "file_extension": ".py",
   "mimetype": "text/x-python",
   "name": "python",
   "nbconvert_exporter": "python",
   "pygments_lexer": "ipython3",
   "version": "3.12.7"
  }
 },
 "nbformat": 4,
 "nbformat_minor": 5
}
