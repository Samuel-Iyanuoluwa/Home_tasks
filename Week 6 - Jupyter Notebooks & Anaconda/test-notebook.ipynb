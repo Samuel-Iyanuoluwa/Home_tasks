{
 "cells": [
  {
   "cell_type": "markdown",
   "id": "4e05b5f7-70f2-403d-b6f7-69ba6ccb68d8",
   "metadata": {},
   "source": [
    "#### REQUIREMENTS\n",
    "\n",
    "- Python Version: 3.12.17"
   ]
  },
  {
   "cell_type": "code",
   "execution_count": 3,
   "id": "6ab27c1b",
   "metadata": {},
   "outputs": [
    {
     "name": "stdout",
     "output_type": "stream",
     "text": [
      "Hello, how are you?\n"
     ]
    }
   ],
   "source": [
    "print(\"Hello, how are you?\")"
   ]
  },
  {
   "cell_type": "code",
   "execution_count": 5,
   "id": "ba298d94",
   "metadata": {},
   "outputs": [
    {
     "name": "stdout",
     "output_type": "stream",
     "text": [
      "Please enter you location:  China\n"
     ]
    },
    {
     "name": "stdout",
     "output_type": "stream",
     "text": [
      "The user currently stays in China\n"
     ]
    }
   ],
   "source": [
    "location = input('Please enter you location: ')\n",
    "print(f\"The user currently stays in {location}\")"
   ]
  },
  {
   "cell_type": "markdown",
   "id": "20c93f70",
   "metadata": {},
   "source": [
    "### This a test document starting out with Jupyter Notebook!"
   ]
  },
  {
   "cell_type": "markdown",
   "id": "b2a0e0e1",
   "metadata": {},
   "source": [
    "Lorem ipsum dolor sit amet, consectetur adipiscing elit, sed do eiusmod tempor incididunt ut labore et dolore magna aliqua. Ut enim ad minim veniam, quis nostrud exercitation ullamco laboris nisi ut aliquip ex ea commodo consequat. Duis aute irure dolor in reprehenderit in voluptate velit esse cillum dolore eu fugiat nulla pariatur. Excepteur sint occaecat cupidatat non proident, sunt in culpa qui officia deserunt mollit anim id est laborum."
   ]
  },
  {
   "cell_type": "markdown",
   "id": "800ef4e3",
   "metadata": {},
   "source": [
    "Sed ut perspiciatis unde omnis iste natus error sit voluptatem accusantium doloremque laudantium, totam rem aperiam, eaque ipsa quae ab illo inventore veritatis et quasi architecto beatae vitae dicta sunt explicabo. "
   ]
  },
  {
   "cell_type": "markdown",
   "id": "4cf86ac3",
   "metadata": {},
   "source": [
    "Below are some list items:\n",
    "\n",
    "- Orange\n",
    "- Pencil\n",
    "- Mango\n",
    "- Crayon"
   ]
  },
  {
   "cell_type": "markdown",
   "id": "c696c730-610a-4871-afb0-241ae9aac26b",
   "metadata": {},
   "source": [
    "# Lorem ipsum"
   ]
  },
  {
   "cell_type": "code",
   "execution_count": 10,
   "id": "93c27a6b-dfea-4ffa-a167-072a7f7c8ffd",
   "metadata": {},
   "outputs": [
    {
     "name": "stdout",
     "output_type": "stream",
     "text": [
      "The sum of the provided numbers is 147\n"
     ]
    }
   ],
   "source": [
    "def sum(num1, num2):\n",
    "    return num1 + num2\n",
    "\n",
    "print('The sum of the provided numbers is', sum(56, 91))"
   ]
  },
  {
   "cell_type": "raw",
   "id": "28a86799-7a8a-4b72-8fab-86835719e247",
   "metadata": {},
   "source": [
    "This is a raw cell"
   ]
  },
  {
   "cell_type": "code",
   "execution_count": null,
   "id": "b46e8ffa",
   "metadata": {},
   "outputs": [],
   "source": [
    "name = \"Chris Idakwo\"\n",
    "age = 17\n",
    "height = 3.6"
   ]
  },
  {
   "cell_type": "code",
   "execution_count": null,
   "id": "69105e91",
   "metadata": {},
   "outputs": [],
   "source": [
    "print(name)"
   ]
  },
  {
   "cell_type": "markdown",
   "id": "6c964471-d0de-4065-9b6a-972d83d22a5a",
   "metadata": {
    "jp-MarkdownHeadingCollapsed": true
   },
   "source": [
    "### COVID-19 Dataset\n",
    "\n",
    "```json\n",
    "{\n",
    "    \"countries\": {\n",
    "        \"Nigeria\": {\n",
    "            \"population\": 5000000,\n",
    "            \"total_cases\": 250000,\n",
    "            \"active_cases\": 16500,\n",
    "            \"deaths\": 3500,\n",
    "            \"recoveries\": 230000,\n",
    "            \"testing\": 1200000,\n",
    "            \"vaccination\": {\n",
    "                \"first_dose\": 3500000,\n",
    "                \"fully_vaccinated\": 3200000,\n",
    "                \"boosters\": 1800000\n",
    "            },\n",
    "            \"monthly_cases\": {\n",
    "                \"Jan\": 45000,\n",
    "                \"Feb\": 32000,\n",
    "                \"Mar\": 25000,\n",
    "                \"Apr\": 18000,\n",
    "                \"May\": 15000,\n",
    "                \"Jun\": 10000\n",
    "            }\n",
    "        },\n",
    "        \"Ghana\": {\n",
    "            \"population\": 8000000,\n",
    "            \"total_cases\": 420000,\n",
    "            \"active_cases\": 23800,\n",
    "            \"deaths\": 6200,\n",
    "            \"recoveries\": 390000,\n",
    "            \"testing\": 1900000,\n",
    "            \"vaccination\": {\n",
    "                \"first_dose\": 5100000,\n",
    "                \"fully_vaccinated\": 4800000,\n",
    "                \"boosters\": 2500000\n",
    "            },\n",
    "            \"monthly_cases\": {\n",
    "                \"Jan\": 80000,\n",
    "                \"Feb\": 65000,\n",
    "                \"Mar\": 40000,\n",
    "                \"Apr\": 25000,\n",
    "                \"May\": 12000,\n",
    "                \"Jun\": 8000\n",
    "            }\n",
    "        },\n",
    "        \"England\": {\n",
    "            \"population\": 3000000,\n",
    "            \"total_cases\": 180000,\n",
    "            \"active_cases\": 5900,\n",
    "            \"deaths\": 2100,\n",
    "            \"recoveries\": 172000,\n",
    "            \"testing\": 950000,\n",
    "            \"vaccination\": {\n",
    "                \"first_dose\": 2100000,\n",
    "                \"fully_vaccinated\": 1950000,\n",
    "                \"boosters\": 900000\n",
    "            },\n",
    "            \"monthly_cases\": {\n",
    "                \"Jan\": 35000,\n",
    "                \"Feb\": 30000,\n",
    "                \"Mar\": 20000,\n",
    "                \"Apr\": 12000,\n",
    "                \"May\": 8000,\n",
    "                \"Jun\": 5000\n",
    "            }\n",
    "        },\n",
    "        \"Kenya\": {\n",
    "            \"population\": 6500000,\n",
    "            \"total_cases\": 350000,\n",
    "            \"active_cases\": 15200,\n",
    "            \"deaths\": 4800,\n",
    "            \"recoveries\": 330000,\n",
    "            \"testing\": 1600000,\n",
    "            \"vaccination\": {\n",
    "                \"first_dose\": 3900000,\n",
    "                \"fully_vaccinated\": 3500000,\n",
    "                \"boosters\": 1600000\n",
    "            },\n",
    "            \"monthly_cases\": {\n",
    "                \"Jan\": 70000,\n",
    "                \"Feb\": 50000,\n",
    "                \"Mar\": 35000,\n",
    "                \"Apr\": 20000,\n",
    "                \"May\": 10000,\n",
    "                \"Jun\": 5000\n",
    "            }\n",
    "        }\n",
    "    },\n",
    "    \"global\": {\n",
    "        \"total_cases\": 1200000,\n",
    "        \"active_cases\": 61400,\n",
    "        \"total_deaths\": 16600,\n",
    "        \"total_recoveries\": 1122000,\n",
    "        \"total_vaccines_distributed\": 25000000\n",
    "    },\n",
    "    \"variants\": {\n",
    "        \"Alpha\": {\"first_detected\": \"Sep 2020\", \"transmissibility\": \"Medium\"},\n",
    "        \"Beta\": {\"first_detected\": \"Oct 2020\", \"transmissibility\": \"Medium\"},\n",
    "        \"Delta\": {\"first_detected\": \"Dec 2020\", \"transmissibility\": \"High\"},\n",
    "        \"Omicron\": {\"first_detected\": \"Nov 2021\", \"transmissibility\": \"Very High\"}\n",
    "    }\n",
    "}\n",
    "```"
   ]
  },
  {
   "cell_type": "code",
   "execution_count": null,
   "id": "1a9620e0-5e7d-44d0-8af2-11212d15d1fc",
   "metadata": {},
   "outputs": [],
   "source": []
  }
 ],
 "metadata": {
  "kernelspec": {
   "display_name": "Python [conda env:base] *",
   "language": "python",
   "name": "conda-base-py"
  },
  "language_info": {
   "codemirror_mode": {
    "name": "ipython",
    "version": 3
   },
   "file_extension": ".py",
   "mimetype": "text/x-python",
   "name": "python",
   "nbconvert_exporter": "python",
   "pygments_lexer": "ipython3",
   "version": "3.12.7"
  }
 },
 "nbformat": 4,
 "nbformat_minor": 5
}
